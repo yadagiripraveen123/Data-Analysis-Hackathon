{
 "cells": [
  {
   "cell_type": "markdown",
   "id": "97cd21b1",
   "metadata": {},
   "source": [
    "## Data Overview\n",
    "- VIN (1-10) - The 1st 10 characters of each vehicle's Vehicle Identification Number (VIN).\n",
    "- County- The county in which the registered owner resides.\n",
    "- City - The city in which the registered owner resides.\n",
    "- State- The state in which the registered owner resides.\n",
    "- Postal Code - The 5-digit postal code in which the registered owner resides.\n",
    "- Model Year - The model year of the vehicle is determined by decoding the Vehicle Identification Number (VIN).\n",
    "- Make- The manufacturer of the vehicle, determined by decoding the Vehicle Identification Number (VIN).\n",
    "- Model- The model of the vehicle is determined by decoding the Vehicle Identification Number (VIN).\n",
    "- Electric Vehicle Type - This distinguishes the vehicle as all-electric or a plug-in hybrid.\n",
    "- Clean Alternative Fuel Vehicle (CAFV) Eligibility - This categorizes vehicles as Clean Alternative Fuel Vehicles (CAFVs) based on the fuel requirement and electric-only range requirement.\n",
    "- Electric Range - Describes how far a vehicle can travel purely on its electric charge.\n",
    "- Base MSRP - This is the lowest Manufacturer's Suggested Retail Price (MSRP).\n",
    "- Legislative District - The specific section of Washington State that the vehicle's owner resides in, as represented in the state legislature.\n",
    "- DOL Vehicle ID - Unique number assigned to each vehicle by the Department of Licensing for identification purposes.\n",
    "- Vehicle Location - The center of the ZIP Code for the registered vehicle.\n",
    "- Electric Utility - This is the electric power retail service territory serving the address of the registered vehicle.\n",
    "- 2020 Census Tract - A census tract is a small, relatively permanent statistical subdivision of a county delineated by a local committee of census data users for the purpose of presenting census data in 2020."
   ]
  },
  {
   "cell_type": "code",
   "execution_count": 1,
   "id": "4fba0341",
   "metadata": {
    "ExecuteTime": {
     "end_time": "2023-07-23T05:40:24.840294Z",
     "start_time": "2023-07-23T05:40:23.192080Z"
    }
   },
   "outputs": [],
   "source": [
    "# Importing all the required libraries.\n",
    "import numpy as np\n",
    "import pandas as pd\n",
    "\n",
    "import seaborn as sns\n",
    "import plotly.express as px"
   ]
  },
  {
   "cell_type": "code",
   "execution_count": 2,
   "id": "4c33b839",
   "metadata": {
    "ExecuteTime": {
     "end_time": "2023-07-23T05:40:25.873865Z",
     "start_time": "2023-07-23T05:40:25.618421Z"
    }
   },
   "outputs": [],
   "source": [
    "# Loading the EV(Electric Vehicle) dataset.\n",
    "ev_data = pd.read_csv(r\"D:\\Data\\EVdataset.csv\")"
   ]
  },
  {
   "cell_type": "code",
   "execution_count": 3,
   "id": "0c039f3f",
   "metadata": {
    "ExecuteTime": {
     "end_time": "2023-07-23T05:40:26.122026Z",
     "start_time": "2023-07-23T05:40:26.088993Z"
    }
   },
   "outputs": [
    {
     "data": {
      "text/html": [
       "<div>\n",
       "<style scoped>\n",
       "    .dataframe tbody tr th:only-of-type {\n",
       "        vertical-align: middle;\n",
       "    }\n",
       "\n",
       "    .dataframe tbody tr th {\n",
       "        vertical-align: top;\n",
       "    }\n",
       "\n",
       "    .dataframe thead th {\n",
       "        text-align: right;\n",
       "    }\n",
       "</style>\n",
       "<table border=\"1\" class=\"dataframe\">\n",
       "  <thead>\n",
       "    <tr style=\"text-align: right;\">\n",
       "      <th></th>\n",
       "      <th>VIN (1-10)</th>\n",
       "      <th>County</th>\n",
       "      <th>City</th>\n",
       "      <th>State</th>\n",
       "      <th>Postal Code</th>\n",
       "      <th>Model Year</th>\n",
       "      <th>Make</th>\n",
       "      <th>Model</th>\n",
       "      <th>Electric Vehicle Type</th>\n",
       "      <th>Clean Alternative Fuel Vehicle (CAFV) Eligibility</th>\n",
       "      <th>Electric Range</th>\n",
       "      <th>Base MSRP</th>\n",
       "      <th>Legislative District</th>\n",
       "      <th>DOL Vehicle ID</th>\n",
       "      <th>Vehicle Location</th>\n",
       "      <th>Electric Utility</th>\n",
       "      <th>2020 Census Tract</th>\n",
       "    </tr>\n",
       "  </thead>\n",
       "  <tbody>\n",
       "    <tr>\n",
       "      <th>0</th>\n",
       "      <td>JTMEB3FV6N</td>\n",
       "      <td>Monroe</td>\n",
       "      <td>Key West</td>\n",
       "      <td>FL</td>\n",
       "      <td>33040</td>\n",
       "      <td>2022</td>\n",
       "      <td>TOYOTA</td>\n",
       "      <td>RAV4 PRIME</td>\n",
       "      <td>Plug-in Hybrid Electric Vehicle (PHEV)</td>\n",
       "      <td>Clean Alternative Fuel Vehicle Eligible</td>\n",
       "      <td>42</td>\n",
       "      <td>0</td>\n",
       "      <td>NaN</td>\n",
       "      <td>198968248</td>\n",
       "      <td>POINT (-81.80023 24.5545)</td>\n",
       "      <td>NaN</td>\n",
       "      <td>12087972100</td>\n",
       "    </tr>\n",
       "    <tr>\n",
       "      <th>1</th>\n",
       "      <td>1G1RD6E45D</td>\n",
       "      <td>Clark</td>\n",
       "      <td>Laughlin</td>\n",
       "      <td>NV</td>\n",
       "      <td>89029</td>\n",
       "      <td>2013</td>\n",
       "      <td>CHEVROLET</td>\n",
       "      <td>VOLT</td>\n",
       "      <td>Plug-in Hybrid Electric Vehicle (PHEV)</td>\n",
       "      <td>Clean Alternative Fuel Vehicle Eligible</td>\n",
       "      <td>38</td>\n",
       "      <td>0</td>\n",
       "      <td>NaN</td>\n",
       "      <td>5204412</td>\n",
       "      <td>POINT (-114.57245 35.16815)</td>\n",
       "      <td>NaN</td>\n",
       "      <td>32003005702</td>\n",
       "    </tr>\n",
       "    <tr>\n",
       "      <th>2</th>\n",
       "      <td>JN1AZ0CP8B</td>\n",
       "      <td>Yakima</td>\n",
       "      <td>Yakima</td>\n",
       "      <td>WA</td>\n",
       "      <td>98901</td>\n",
       "      <td>2011</td>\n",
       "      <td>NISSAN</td>\n",
       "      <td>LEAF</td>\n",
       "      <td>Battery Electric Vehicle (BEV)</td>\n",
       "      <td>Clean Alternative Fuel Vehicle Eligible</td>\n",
       "      <td>73</td>\n",
       "      <td>0</td>\n",
       "      <td>15.0</td>\n",
       "      <td>218972519</td>\n",
       "      <td>POINT (-120.50721 46.60448)</td>\n",
       "      <td>PACIFICORP</td>\n",
       "      <td>53077001602</td>\n",
       "    </tr>\n",
       "    <tr>\n",
       "      <th>3</th>\n",
       "      <td>1G1FW6S08H</td>\n",
       "      <td>Skagit</td>\n",
       "      <td>Concrete</td>\n",
       "      <td>WA</td>\n",
       "      <td>98237</td>\n",
       "      <td>2017</td>\n",
       "      <td>CHEVROLET</td>\n",
       "      <td>BOLT EV</td>\n",
       "      <td>Battery Electric Vehicle (BEV)</td>\n",
       "      <td>Clean Alternative Fuel Vehicle Eligible</td>\n",
       "      <td>238</td>\n",
       "      <td>0</td>\n",
       "      <td>39.0</td>\n",
       "      <td>186750406</td>\n",
       "      <td>POINT (-121.7515 48.53892)</td>\n",
       "      <td>PUGET SOUND ENERGY INC</td>\n",
       "      <td>53057951101</td>\n",
       "    </tr>\n",
       "    <tr>\n",
       "      <th>4</th>\n",
       "      <td>3FA6P0SU1K</td>\n",
       "      <td>Snohomish</td>\n",
       "      <td>Everett</td>\n",
       "      <td>WA</td>\n",
       "      <td>98201</td>\n",
       "      <td>2019</td>\n",
       "      <td>FORD</td>\n",
       "      <td>FUSION</td>\n",
       "      <td>Plug-in Hybrid Electric Vehicle (PHEV)</td>\n",
       "      <td>Not eligible due to low battery range</td>\n",
       "      <td>26</td>\n",
       "      <td>0</td>\n",
       "      <td>38.0</td>\n",
       "      <td>2006714</td>\n",
       "      <td>POINT (-122.20596 47.97659)</td>\n",
       "      <td>PUGET SOUND ENERGY INC</td>\n",
       "      <td>53061041500</td>\n",
       "    </tr>\n",
       "    <tr>\n",
       "      <th>5</th>\n",
       "      <td>5YJ3E1EB5J</td>\n",
       "      <td>Snohomish</td>\n",
       "      <td>Bothell</td>\n",
       "      <td>WA</td>\n",
       "      <td>98021</td>\n",
       "      <td>2018</td>\n",
       "      <td>TESLA</td>\n",
       "      <td>MODEL 3</td>\n",
       "      <td>Battery Electric Vehicle (BEV)</td>\n",
       "      <td>Clean Alternative Fuel Vehicle Eligible</td>\n",
       "      <td>215</td>\n",
       "      <td>0</td>\n",
       "      <td>1.0</td>\n",
       "      <td>475635324</td>\n",
       "      <td>POINT (-122.18384 47.8031)</td>\n",
       "      <td>PUGET SOUND ENERGY INC</td>\n",
       "      <td>53061051916</td>\n",
       "    </tr>\n",
       "    <tr>\n",
       "      <th>6</th>\n",
       "      <td>1N4AZ0CP4D</td>\n",
       "      <td>Snohomish</td>\n",
       "      <td>Everett</td>\n",
       "      <td>WA</td>\n",
       "      <td>98203</td>\n",
       "      <td>2013</td>\n",
       "      <td>NISSAN</td>\n",
       "      <td>LEAF</td>\n",
       "      <td>Battery Electric Vehicle (BEV)</td>\n",
       "      <td>Clean Alternative Fuel Vehicle Eligible</td>\n",
       "      <td>75</td>\n",
       "      <td>0</td>\n",
       "      <td>38.0</td>\n",
       "      <td>253546023</td>\n",
       "      <td>POINT (-122.23019 47.94949)</td>\n",
       "      <td>PUGET SOUND ENERGY INC</td>\n",
       "      <td>53061040900</td>\n",
       "    </tr>\n",
       "    <tr>\n",
       "      <th>7</th>\n",
       "      <td>1N4AZ0CP0D</td>\n",
       "      <td>Snohomish</td>\n",
       "      <td>Mukilteo</td>\n",
       "      <td>WA</td>\n",
       "      <td>98275</td>\n",
       "      <td>2013</td>\n",
       "      <td>NISSAN</td>\n",
       "      <td>LEAF</td>\n",
       "      <td>Battery Electric Vehicle (BEV)</td>\n",
       "      <td>Clean Alternative Fuel Vehicle Eligible</td>\n",
       "      <td>75</td>\n",
       "      <td>0</td>\n",
       "      <td>21.0</td>\n",
       "      <td>176817364</td>\n",
       "      <td>POINT (-122.29196 47.89908)</td>\n",
       "      <td>PUGET SOUND ENERGY INC</td>\n",
       "      <td>53061042001</td>\n",
       "    </tr>\n",
       "    <tr>\n",
       "      <th>8</th>\n",
       "      <td>1N4BZ0CP4G</td>\n",
       "      <td>Island</td>\n",
       "      <td>Clinton</td>\n",
       "      <td>WA</td>\n",
       "      <td>98236</td>\n",
       "      <td>2016</td>\n",
       "      <td>NISSAN</td>\n",
       "      <td>LEAF</td>\n",
       "      <td>Battery Electric Vehicle (BEV)</td>\n",
       "      <td>Clean Alternative Fuel Vehicle Eligible</td>\n",
       "      <td>84</td>\n",
       "      <td>0</td>\n",
       "      <td>10.0</td>\n",
       "      <td>475900379</td>\n",
       "      <td>POINT (-122.35803 47.9796)</td>\n",
       "      <td>PUGET SOUND ENERGY INC</td>\n",
       "      <td>53029972100</td>\n",
       "    </tr>\n",
       "    <tr>\n",
       "      <th>9</th>\n",
       "      <td>KNDJP3AE2G</td>\n",
       "      <td>Skagit</td>\n",
       "      <td>Anacortes</td>\n",
       "      <td>WA</td>\n",
       "      <td>98221</td>\n",
       "      <td>2016</td>\n",
       "      <td>KIA</td>\n",
       "      <td>SOUL</td>\n",
       "      <td>Battery Electric Vehicle (BEV)</td>\n",
       "      <td>Clean Alternative Fuel Vehicle Eligible</td>\n",
       "      <td>93</td>\n",
       "      <td>31950</td>\n",
       "      <td>40.0</td>\n",
       "      <td>100489049</td>\n",
       "      <td>POINT (-122.61214 48.51748)</td>\n",
       "      <td>PUGET SOUND ENERGY INC</td>\n",
       "      <td>53057940301</td>\n",
       "    </tr>\n",
       "  </tbody>\n",
       "</table>\n",
       "</div>"
      ],
      "text/plain": [
       "   VIN (1-10)     County       City State  Postal Code  Model Year       Make  \\\n",
       "0  JTMEB3FV6N     Monroe   Key West    FL        33040        2022     TOYOTA   \n",
       "1  1G1RD6E45D      Clark   Laughlin    NV        89029        2013  CHEVROLET   \n",
       "2  JN1AZ0CP8B     Yakima     Yakima    WA        98901        2011     NISSAN   \n",
       "3  1G1FW6S08H     Skagit   Concrete    WA        98237        2017  CHEVROLET   \n",
       "4  3FA6P0SU1K  Snohomish    Everett    WA        98201        2019       FORD   \n",
       "5  5YJ3E1EB5J  Snohomish    Bothell    WA        98021        2018      TESLA   \n",
       "6  1N4AZ0CP4D  Snohomish    Everett    WA        98203        2013     NISSAN   \n",
       "7  1N4AZ0CP0D  Snohomish   Mukilteo    WA        98275        2013     NISSAN   \n",
       "8  1N4BZ0CP4G     Island    Clinton    WA        98236        2016     NISSAN   \n",
       "9  KNDJP3AE2G     Skagit  Anacortes    WA        98221        2016        KIA   \n",
       "\n",
       "        Model                   Electric Vehicle Type  \\\n",
       "0  RAV4 PRIME  Plug-in Hybrid Electric Vehicle (PHEV)   \n",
       "1        VOLT  Plug-in Hybrid Electric Vehicle (PHEV)   \n",
       "2        LEAF          Battery Electric Vehicle (BEV)   \n",
       "3     BOLT EV          Battery Electric Vehicle (BEV)   \n",
       "4      FUSION  Plug-in Hybrid Electric Vehicle (PHEV)   \n",
       "5     MODEL 3          Battery Electric Vehicle (BEV)   \n",
       "6        LEAF          Battery Electric Vehicle (BEV)   \n",
       "7        LEAF          Battery Electric Vehicle (BEV)   \n",
       "8        LEAF          Battery Electric Vehicle (BEV)   \n",
       "9        SOUL          Battery Electric Vehicle (BEV)   \n",
       "\n",
       "  Clean Alternative Fuel Vehicle (CAFV) Eligibility  Electric Range  \\\n",
       "0           Clean Alternative Fuel Vehicle Eligible              42   \n",
       "1           Clean Alternative Fuel Vehicle Eligible              38   \n",
       "2           Clean Alternative Fuel Vehicle Eligible              73   \n",
       "3           Clean Alternative Fuel Vehicle Eligible             238   \n",
       "4             Not eligible due to low battery range              26   \n",
       "5           Clean Alternative Fuel Vehicle Eligible             215   \n",
       "6           Clean Alternative Fuel Vehicle Eligible              75   \n",
       "7           Clean Alternative Fuel Vehicle Eligible              75   \n",
       "8           Clean Alternative Fuel Vehicle Eligible              84   \n",
       "9           Clean Alternative Fuel Vehicle Eligible              93   \n",
       "\n",
       "   Base MSRP  Legislative District  DOL Vehicle ID  \\\n",
       "0          0                   NaN       198968248   \n",
       "1          0                   NaN         5204412   \n",
       "2          0                  15.0       218972519   \n",
       "3          0                  39.0       186750406   \n",
       "4          0                  38.0         2006714   \n",
       "5          0                   1.0       475635324   \n",
       "6          0                  38.0       253546023   \n",
       "7          0                  21.0       176817364   \n",
       "8          0                  10.0       475900379   \n",
       "9      31950                  40.0       100489049   \n",
       "\n",
       "              Vehicle Location        Electric Utility  2020 Census Tract  \n",
       "0    POINT (-81.80023 24.5545)                     NaN        12087972100  \n",
       "1  POINT (-114.57245 35.16815)                     NaN        32003005702  \n",
       "2  POINT (-120.50721 46.60448)              PACIFICORP        53077001602  \n",
       "3   POINT (-121.7515 48.53892)  PUGET SOUND ENERGY INC        53057951101  \n",
       "4  POINT (-122.20596 47.97659)  PUGET SOUND ENERGY INC        53061041500  \n",
       "5   POINT (-122.18384 47.8031)  PUGET SOUND ENERGY INC        53061051916  \n",
       "6  POINT (-122.23019 47.94949)  PUGET SOUND ENERGY INC        53061040900  \n",
       "7  POINT (-122.29196 47.89908)  PUGET SOUND ENERGY INC        53061042001  \n",
       "8   POINT (-122.35803 47.9796)  PUGET SOUND ENERGY INC        53029972100  \n",
       "9  POINT (-122.61214 48.51748)  PUGET SOUND ENERGY INC        53057940301  "
      ]
     },
     "execution_count": 3,
     "metadata": {},
     "output_type": "execute_result"
    }
   ],
   "source": [
    "# Checking the head of the dataframe.\n",
    "ev_data.head(10)"
   ]
  },
  {
   "cell_type": "code",
   "execution_count": 4,
   "id": "9cb199e3",
   "metadata": {
    "ExecuteTime": {
     "end_time": "2023-07-23T05:40:26.432990Z",
     "start_time": "2023-07-23T05:40:26.417989Z"
    }
   },
   "outputs": [
    {
     "data": {
      "text/plain": [
       "(112634, 17)"
      ]
     },
     "execution_count": 4,
     "metadata": {},
     "output_type": "execute_result"
    }
   ],
   "source": [
    "# Checking the shape of the dataframe.\n",
    "ev_data.shape"
   ]
  },
  {
   "cell_type": "code",
   "execution_count": 5,
   "id": "696d1f14",
   "metadata": {
    "ExecuteTime": {
     "end_time": "2023-07-23T05:40:26.947924Z",
     "start_time": "2023-07-23T05:40:26.821451Z"
    }
   },
   "outputs": [
    {
     "name": "stdout",
     "output_type": "stream",
     "text": [
      "<class 'pandas.core.frame.DataFrame'>\n",
      "RangeIndex: 112634 entries, 0 to 112633\n",
      "Data columns (total 17 columns):\n",
      " #   Column                                             Non-Null Count   Dtype  \n",
      "---  ------                                             --------------   -----  \n",
      " 0   VIN (1-10)                                         112634 non-null  object \n",
      " 1   County                                             112634 non-null  object \n",
      " 2   City                                               112634 non-null  object \n",
      " 3   State                                              112634 non-null  object \n",
      " 4   Postal Code                                        112634 non-null  int64  \n",
      " 5   Model Year                                         112634 non-null  int64  \n",
      " 6   Make                                               112634 non-null  object \n",
      " 7   Model                                              112614 non-null  object \n",
      " 8   Electric Vehicle Type                              112634 non-null  object \n",
      " 9   Clean Alternative Fuel Vehicle (CAFV) Eligibility  112634 non-null  object \n",
      " 10  Electric Range                                     112634 non-null  int64  \n",
      " 11  Base MSRP                                          112634 non-null  int64  \n",
      " 12  Legislative District                               112348 non-null  float64\n",
      " 13  DOL Vehicle ID                                     112634 non-null  int64  \n",
      " 14  Vehicle Location                                   112610 non-null  object \n",
      " 15  Electric Utility                                   112191 non-null  object \n",
      " 16  2020 Census Tract                                  112634 non-null  int64  \n",
      "dtypes: float64(1), int64(6), object(10)\n",
      "memory usage: 14.6+ MB\n"
     ]
    }
   ],
   "source": [
    "# Checking the Info() of the dataframe.\n",
    "ev_data.info()"
   ]
  },
  {
   "cell_type": "code",
   "execution_count": 6,
   "id": "ff1e86d9",
   "metadata": {
    "ExecuteTime": {
     "end_time": "2023-07-23T05:40:27.166094Z",
     "start_time": "2023-07-23T05:40:27.109918Z"
    }
   },
   "outputs": [
    {
     "data": {
      "text/html": [
       "<div>\n",
       "<style scoped>\n",
       "    .dataframe tbody tr th:only-of-type {\n",
       "        vertical-align: middle;\n",
       "    }\n",
       "\n",
       "    .dataframe tbody tr th {\n",
       "        vertical-align: top;\n",
       "    }\n",
       "\n",
       "    .dataframe thead th {\n",
       "        text-align: right;\n",
       "    }\n",
       "</style>\n",
       "<table border=\"1\" class=\"dataframe\">\n",
       "  <thead>\n",
       "    <tr style=\"text-align: right;\">\n",
       "      <th></th>\n",
       "      <th>Postal Code</th>\n",
       "      <th>Model Year</th>\n",
       "      <th>Electric Range</th>\n",
       "      <th>Base MSRP</th>\n",
       "      <th>Legislative District</th>\n",
       "      <th>DOL Vehicle ID</th>\n",
       "      <th>2020 Census Tract</th>\n",
       "    </tr>\n",
       "  </thead>\n",
       "  <tbody>\n",
       "    <tr>\n",
       "      <th>count</th>\n",
       "      <td>112634.000000</td>\n",
       "      <td>112634.000000</td>\n",
       "      <td>112634.000000</td>\n",
       "      <td>112634.000000</td>\n",
       "      <td>112348.000000</td>\n",
       "      <td>1.126340e+05</td>\n",
       "      <td>1.126340e+05</td>\n",
       "    </tr>\n",
       "    <tr>\n",
       "      <th>mean</th>\n",
       "      <td>98156.226850</td>\n",
       "      <td>2019.003365</td>\n",
       "      <td>87.812987</td>\n",
       "      <td>1793.439681</td>\n",
       "      <td>29.805604</td>\n",
       "      <td>1.994567e+08</td>\n",
       "      <td>5.296650e+10</td>\n",
       "    </tr>\n",
       "    <tr>\n",
       "      <th>std</th>\n",
       "      <td>2648.733064</td>\n",
       "      <td>2.892364</td>\n",
       "      <td>102.334216</td>\n",
       "      <td>10783.753486</td>\n",
       "      <td>14.700545</td>\n",
       "      <td>9.398427e+07</td>\n",
       "      <td>1.699104e+09</td>\n",
       "    </tr>\n",
       "    <tr>\n",
       "      <th>min</th>\n",
       "      <td>1730.000000</td>\n",
       "      <td>1997.000000</td>\n",
       "      <td>0.000000</td>\n",
       "      <td>0.000000</td>\n",
       "      <td>1.000000</td>\n",
       "      <td>4.777000e+03</td>\n",
       "      <td>1.101001e+09</td>\n",
       "    </tr>\n",
       "    <tr>\n",
       "      <th>25%</th>\n",
       "      <td>98052.000000</td>\n",
       "      <td>2017.000000</td>\n",
       "      <td>0.000000</td>\n",
       "      <td>0.000000</td>\n",
       "      <td>18.000000</td>\n",
       "      <td>1.484142e+08</td>\n",
       "      <td>5.303301e+10</td>\n",
       "    </tr>\n",
       "    <tr>\n",
       "      <th>50%</th>\n",
       "      <td>98119.000000</td>\n",
       "      <td>2020.000000</td>\n",
       "      <td>32.000000</td>\n",
       "      <td>0.000000</td>\n",
       "      <td>34.000000</td>\n",
       "      <td>1.923896e+08</td>\n",
       "      <td>5.303303e+10</td>\n",
       "    </tr>\n",
       "    <tr>\n",
       "      <th>75%</th>\n",
       "      <td>98370.000000</td>\n",
       "      <td>2022.000000</td>\n",
       "      <td>208.000000</td>\n",
       "      <td>0.000000</td>\n",
       "      <td>43.000000</td>\n",
       "      <td>2.191899e+08</td>\n",
       "      <td>5.305307e+10</td>\n",
       "    </tr>\n",
       "    <tr>\n",
       "      <th>max</th>\n",
       "      <td>99701.000000</td>\n",
       "      <td>2023.000000</td>\n",
       "      <td>337.000000</td>\n",
       "      <td>845000.000000</td>\n",
       "      <td>49.000000</td>\n",
       "      <td>4.792548e+08</td>\n",
       "      <td>5.603300e+10</td>\n",
       "    </tr>\n",
       "  </tbody>\n",
       "</table>\n",
       "</div>"
      ],
      "text/plain": [
       "         Postal Code     Model Year  Electric Range      Base MSRP  \\\n",
       "count  112634.000000  112634.000000   112634.000000  112634.000000   \n",
       "mean    98156.226850    2019.003365       87.812987    1793.439681   \n",
       "std      2648.733064       2.892364      102.334216   10783.753486   \n",
       "min      1730.000000    1997.000000        0.000000       0.000000   \n",
       "25%     98052.000000    2017.000000        0.000000       0.000000   \n",
       "50%     98119.000000    2020.000000       32.000000       0.000000   \n",
       "75%     98370.000000    2022.000000      208.000000       0.000000   \n",
       "max     99701.000000    2023.000000      337.000000  845000.000000   \n",
       "\n",
       "       Legislative District  DOL Vehicle ID  2020 Census Tract  \n",
       "count         112348.000000    1.126340e+05       1.126340e+05  \n",
       "mean              29.805604    1.994567e+08       5.296650e+10  \n",
       "std               14.700545    9.398427e+07       1.699104e+09  \n",
       "min                1.000000    4.777000e+03       1.101001e+09  \n",
       "25%               18.000000    1.484142e+08       5.303301e+10  \n",
       "50%               34.000000    1.923896e+08       5.303303e+10  \n",
       "75%               43.000000    2.191899e+08       5.305307e+10  \n",
       "max               49.000000    4.792548e+08       5.603300e+10  "
      ]
     },
     "execution_count": 6,
     "metadata": {},
     "output_type": "execute_result"
    }
   ],
   "source": [
    "# checking the descritive statistics of the data.\n",
    "ev_data.describe()"
   ]
  },
  {
   "cell_type": "markdown",
   "id": "e04da429",
   "metadata": {},
   "source": [
    "## *`Exploratory Data Analysis`*"
   ]
  },
  {
   "cell_type": "markdown",
   "id": "71ec558e",
   "metadata": {},
   "source": [
    "### *`Checking Duplicates`*"
   ]
  },
  {
   "cell_type": "code",
   "execution_count": 7,
   "id": "34cc1705",
   "metadata": {
    "ExecuteTime": {
     "end_time": "2023-07-23T05:40:28.028380Z",
     "start_time": "2023-07-23T05:40:27.911385Z"
    }
   },
   "outputs": [
    {
     "data": {
      "text/plain": [
       "False    112634\n",
       "dtype: int64"
      ]
     },
     "execution_count": 7,
     "metadata": {},
     "output_type": "execute_result"
    }
   ],
   "source": [
    "# Checking if any duplicates are present in the dataframe.\n",
    "ev_data.duplicated().value_counts()"
   ]
  },
  {
   "cell_type": "markdown",
   "id": "3164c127",
   "metadata": {},
   "source": [
    "### *`Checking Null values`*"
   ]
  },
  {
   "cell_type": "code",
   "execution_count": 8,
   "id": "7ae30cbf",
   "metadata": {
    "ExecuteTime": {
     "end_time": "2023-07-23T05:40:28.560536Z",
     "start_time": "2023-07-23T05:40:28.435736Z"
    }
   },
   "outputs": [
    {
     "data": {
      "text/plain": [
       "VIN (1-10)                                             0\n",
       "County                                                 0\n",
       "City                                                   0\n",
       "State                                                  0\n",
       "Postal Code                                            0\n",
       "Model Year                                             0\n",
       "Make                                                   0\n",
       "Model                                                 20\n",
       "Electric Vehicle Type                                  0\n",
       "Clean Alternative Fuel Vehicle (CAFV) Eligibility      0\n",
       "Electric Range                                         0\n",
       "Base MSRP                                              0\n",
       "Legislative District                                 286\n",
       "DOL Vehicle ID                                         0\n",
       "Vehicle Location                                      24\n",
       "Electric Utility                                     443\n",
       "2020 Census Tract                                      0\n",
       "dtype: int64"
      ]
     },
     "execution_count": 8,
     "metadata": {},
     "output_type": "execute_result"
    }
   ],
   "source": [
    "# Checking the null values \n",
    "ev_data.isnull().sum()"
   ]
  },
  {
   "cell_type": "code",
   "execution_count": 9,
   "id": "cafc847a",
   "metadata": {
    "ExecuteTime": {
     "end_time": "2023-07-23T05:40:28.797488Z",
     "start_time": "2023-07-23T05:40:28.673023Z"
    }
   },
   "outputs": [
    {
     "data": {
      "text/plain": [
       "VIN (1-10)                                            0.0%\n",
       "County                                                0.0%\n",
       "City                                                  0.0%\n",
       "State                                                 0.0%\n",
       "Postal Code                                           0.0%\n",
       "Model Year                                            0.0%\n",
       "Make                                                  0.0%\n",
       "Model                                                0.02%\n",
       "Electric Vehicle Type                                 0.0%\n",
       "Clean Alternative Fuel Vehicle (CAFV) Eligibility     0.0%\n",
       "Electric Range                                        0.0%\n",
       "Base MSRP                                             0.0%\n",
       "Legislative District                                 0.25%\n",
       "DOL Vehicle ID                                        0.0%\n",
       "Vehicle Location                                     0.02%\n",
       "Electric Utility                                     0.39%\n",
       "2020 Census Tract                                     0.0%\n",
       "dtype: object"
      ]
     },
     "execution_count": 9,
     "metadata": {},
     "output_type": "execute_result"
    }
   ],
   "source": [
    "# Checking the percentage of missing or null values.\n",
    "np.round((ev_data.isnull().sum()/len(ev_data))*100,2).astype('str')+'%'"
   ]
  },
  {
   "cell_type": "markdown",
   "id": "0f9ef41e",
   "metadata": {},
   "source": [
    "### 🌟`Important Observations` :\n",
    "- There are total 0.68% percentage of null values are present in the data.There are two ways to treat null values.They are \n",
    "1. Dropping missing or Null values\n",
    "- remove rows having missing values if overall less than 5% of rows are missing in the DataFrame.\n",
    "- remove the whole column containing missing values - go for this approach if more than 50% of the column data is missing.\n",
    "2. Imputation methods for imputing the null values like Simple Imputer and Knn Imputer."
   ]
  },
  {
   "cell_type": "code",
   "execution_count": 10,
   "id": "ac56d5a0",
   "metadata": {
    "ExecuteTime": {
     "end_time": "2023-07-23T05:40:29.176575Z",
     "start_time": "2023-07-23T05:40:29.140543Z"
    },
    "scrolled": false
   },
   "outputs": [
    {
     "data": {
      "text/html": [
       "<div>\n",
       "<style scoped>\n",
       "    .dataframe tbody tr th:only-of-type {\n",
       "        vertical-align: middle;\n",
       "    }\n",
       "\n",
       "    .dataframe tbody tr th {\n",
       "        vertical-align: top;\n",
       "    }\n",
       "\n",
       "    .dataframe thead th {\n",
       "        text-align: right;\n",
       "    }\n",
       "</style>\n",
       "<table border=\"1\" class=\"dataframe\">\n",
       "  <thead>\n",
       "    <tr style=\"text-align: right;\">\n",
       "      <th></th>\n",
       "      <th>VIN (1-10)</th>\n",
       "      <th>County</th>\n",
       "      <th>City</th>\n",
       "      <th>State</th>\n",
       "      <th>Postal Code</th>\n",
       "      <th>Model Year</th>\n",
       "      <th>Make</th>\n",
       "      <th>Model</th>\n",
       "      <th>Electric Vehicle Type</th>\n",
       "      <th>Clean Alternative Fuel Vehicle (CAFV) Eligibility</th>\n",
       "      <th>Electric Range</th>\n",
       "      <th>Base MSRP</th>\n",
       "      <th>Legislative District</th>\n",
       "      <th>DOL Vehicle ID</th>\n",
       "      <th>Vehicle Location</th>\n",
       "      <th>Electric Utility</th>\n",
       "      <th>2020 Census Tract</th>\n",
       "    </tr>\n",
       "  </thead>\n",
       "  <tbody>\n",
       "    <tr>\n",
       "      <th>13874</th>\n",
       "      <td>YV4ED3GM2P</td>\n",
       "      <td>King</td>\n",
       "      <td>Seattle</td>\n",
       "      <td>WA</td>\n",
       "      <td>98115</td>\n",
       "      <td>2023</td>\n",
       "      <td>VOLVO</td>\n",
       "      <td>NaN</td>\n",
       "      <td>Battery Electric Vehicle (BEV)</td>\n",
       "      <td>Eligibility unknown as battery range has not b...</td>\n",
       "      <td>0</td>\n",
       "      <td>0</td>\n",
       "      <td>46.0</td>\n",
       "      <td>221526476</td>\n",
       "      <td>POINT (-122.31765 47.70013)</td>\n",
       "      <td>PUGET SOUND ENERGY INC||CITY OF TACOMA - (WA)</td>\n",
       "      <td>53033002200</td>\n",
       "    </tr>\n",
       "    <tr>\n",
       "      <th>30517</th>\n",
       "      <td>YV4ED3UL3P</td>\n",
       "      <td>King</td>\n",
       "      <td>Seattle</td>\n",
       "      <td>WA</td>\n",
       "      <td>98115</td>\n",
       "      <td>2023</td>\n",
       "      <td>VOLVO</td>\n",
       "      <td>NaN</td>\n",
       "      <td>Battery Electric Vehicle (BEV)</td>\n",
       "      <td>Eligibility unknown as battery range has not b...</td>\n",
       "      <td>0</td>\n",
       "      <td>0</td>\n",
       "      <td>43.0</td>\n",
       "      <td>223881556</td>\n",
       "      <td>POINT (-122.31765 47.70013)</td>\n",
       "      <td>CITY OF SEATTLE - (WA)|CITY OF TACOMA - (WA)</td>\n",
       "      <td>53033003601</td>\n",
       "    </tr>\n",
       "    <tr>\n",
       "      <th>31936</th>\n",
       "      <td>YV4ED3GM4P</td>\n",
       "      <td>Clallam</td>\n",
       "      <td>Sequim</td>\n",
       "      <td>WA</td>\n",
       "      <td>98382</td>\n",
       "      <td>2023</td>\n",
       "      <td>VOLVO</td>\n",
       "      <td>NaN</td>\n",
       "      <td>Battery Electric Vehicle (BEV)</td>\n",
       "      <td>Eligibility unknown as battery range has not b...</td>\n",
       "      <td>0</td>\n",
       "      <td>0</td>\n",
       "      <td>24.0</td>\n",
       "      <td>219769000</td>\n",
       "      <td>POINT (-123.10367 48.07965)</td>\n",
       "      <td>BONNEVILLE POWER ADMINISTRATION||PUD NO 1 OF C...</td>\n",
       "      <td>53009002301</td>\n",
       "    </tr>\n",
       "    <tr>\n",
       "      <th>37517</th>\n",
       "      <td>YV4ED3UW2P</td>\n",
       "      <td>Snohomish</td>\n",
       "      <td>Edmonds</td>\n",
       "      <td>WA</td>\n",
       "      <td>98026</td>\n",
       "      <td>2023</td>\n",
       "      <td>VOLVO</td>\n",
       "      <td>NaN</td>\n",
       "      <td>Battery Electric Vehicle (BEV)</td>\n",
       "      <td>Eligibility unknown as battery range has not b...</td>\n",
       "      <td>0</td>\n",
       "      <td>0</td>\n",
       "      <td>32.0</td>\n",
       "      <td>218357779</td>\n",
       "      <td>POINT (-122.31768 47.87166)</td>\n",
       "      <td>PUGET SOUND ENERGY INC</td>\n",
       "      <td>53061050700</td>\n",
       "    </tr>\n",
       "    <tr>\n",
       "      <th>58071</th>\n",
       "      <td>YV4ED3UM4P</td>\n",
       "      <td>King</td>\n",
       "      <td>Renton</td>\n",
       "      <td>WA</td>\n",
       "      <td>98058</td>\n",
       "      <td>2023</td>\n",
       "      <td>VOLVO</td>\n",
       "      <td>NaN</td>\n",
       "      <td>Battery Electric Vehicle (BEV)</td>\n",
       "      <td>Eligibility unknown as battery range has not b...</td>\n",
       "      <td>0</td>\n",
       "      <td>0</td>\n",
       "      <td>11.0</td>\n",
       "      <td>224511766</td>\n",
       "      <td>POINT (-122.08747 47.4466)</td>\n",
       "      <td>PUGET SOUND ENERGY INC||CITY OF TACOMA - (WA)</td>\n",
       "      <td>53033031911</td>\n",
       "    </tr>\n",
       "    <tr>\n",
       "      <th>61626</th>\n",
       "      <td>YV4ED3GM5P</td>\n",
       "      <td>Pierce</td>\n",
       "      <td>Tacoma</td>\n",
       "      <td>WA</td>\n",
       "      <td>98465</td>\n",
       "      <td>2023</td>\n",
       "      <td>VOLVO</td>\n",
       "      <td>NaN</td>\n",
       "      <td>Battery Electric Vehicle (BEV)</td>\n",
       "      <td>Eligibility unknown as battery range has not b...</td>\n",
       "      <td>0</td>\n",
       "      <td>0</td>\n",
       "      <td>28.0</td>\n",
       "      <td>224496702</td>\n",
       "      <td>POINT (-122.52886 47.24977)</td>\n",
       "      <td>BONNEVILLE POWER ADMINISTRATION||CITY OF TACOM...</td>\n",
       "      <td>53053061001</td>\n",
       "    </tr>\n",
       "    <tr>\n",
       "      <th>63240</th>\n",
       "      <td>YV4ED3GMXP</td>\n",
       "      <td>King</td>\n",
       "      <td>Redmond</td>\n",
       "      <td>WA</td>\n",
       "      <td>98052</td>\n",
       "      <td>2023</td>\n",
       "      <td>VOLVO</td>\n",
       "      <td>NaN</td>\n",
       "      <td>Battery Electric Vehicle (BEV)</td>\n",
       "      <td>Eligibility unknown as battery range has not b...</td>\n",
       "      <td>0</td>\n",
       "      <td>0</td>\n",
       "      <td>48.0</td>\n",
       "      <td>221295224</td>\n",
       "      <td>POINT (-122.13158 47.67858)</td>\n",
       "      <td>PUGET SOUND ENERGY INC||CITY OF TACOMA - (WA)</td>\n",
       "      <td>53033032324</td>\n",
       "    </tr>\n",
       "    <tr>\n",
       "      <th>63380</th>\n",
       "      <td>YV4ED3GM7P</td>\n",
       "      <td>King</td>\n",
       "      <td>Seattle</td>\n",
       "      <td>WA</td>\n",
       "      <td>98122</td>\n",
       "      <td>2023</td>\n",
       "      <td>VOLVO</td>\n",
       "      <td>NaN</td>\n",
       "      <td>Battery Electric Vehicle (BEV)</td>\n",
       "      <td>Eligibility unknown as battery range has not b...</td>\n",
       "      <td>0</td>\n",
       "      <td>0</td>\n",
       "      <td>37.0</td>\n",
       "      <td>224280472</td>\n",
       "      <td>POINT (-122.31009 47.60803)</td>\n",
       "      <td>CITY OF SEATTLE - (WA)|CITY OF TACOMA - (WA)</td>\n",
       "      <td>53033007800</td>\n",
       "    </tr>\n",
       "    <tr>\n",
       "      <th>63462</th>\n",
       "      <td>YV4ED3UW4P</td>\n",
       "      <td>King</td>\n",
       "      <td>Newcastle</td>\n",
       "      <td>WA</td>\n",
       "      <td>98059</td>\n",
       "      <td>2023</td>\n",
       "      <td>VOLVO</td>\n",
       "      <td>NaN</td>\n",
       "      <td>Battery Electric Vehicle (BEV)</td>\n",
       "      <td>Eligibility unknown as battery range has not b...</td>\n",
       "      <td>0</td>\n",
       "      <td>0</td>\n",
       "      <td>41.0</td>\n",
       "      <td>218912410</td>\n",
       "      <td>POINT (-122.15771 47.50549)</td>\n",
       "      <td>PUGET SOUND ENERGY INC||CITY OF TACOMA - (WA)</td>\n",
       "      <td>53033025005</td>\n",
       "    </tr>\n",
       "    <tr>\n",
       "      <th>78472</th>\n",
       "      <td>YV4ED3UM1P</td>\n",
       "      <td>King</td>\n",
       "      <td>Fall City</td>\n",
       "      <td>WA</td>\n",
       "      <td>98024</td>\n",
       "      <td>2023</td>\n",
       "      <td>VOLVO</td>\n",
       "      <td>NaN</td>\n",
       "      <td>Battery Electric Vehicle (BEV)</td>\n",
       "      <td>Eligibility unknown as battery range has not b...</td>\n",
       "      <td>0</td>\n",
       "      <td>0</td>\n",
       "      <td>5.0</td>\n",
       "      <td>224631494</td>\n",
       "      <td>POINT (-121.89086 47.56812)</td>\n",
       "      <td>PUGET SOUND ENERGY INC||CITY OF TACOMA - (WA)</td>\n",
       "      <td>53033032221</td>\n",
       "    </tr>\n",
       "    <tr>\n",
       "      <th>81302</th>\n",
       "      <td>YV4ED3UM5P</td>\n",
       "      <td>King</td>\n",
       "      <td>Redmond</td>\n",
       "      <td>WA</td>\n",
       "      <td>98052</td>\n",
       "      <td>2023</td>\n",
       "      <td>VOLVO</td>\n",
       "      <td>NaN</td>\n",
       "      <td>Battery Electric Vehicle (BEV)</td>\n",
       "      <td>Eligibility unknown as battery range has not b...</td>\n",
       "      <td>0</td>\n",
       "      <td>0</td>\n",
       "      <td>48.0</td>\n",
       "      <td>220511791</td>\n",
       "      <td>POINT (-122.13158 47.67858)</td>\n",
       "      <td>PUGET SOUND ENERGY INC||CITY OF TACOMA - (WA)</td>\n",
       "      <td>53033022902</td>\n",
       "    </tr>\n",
       "    <tr>\n",
       "      <th>84142</th>\n",
       "      <td>YV4ED3UM2P</td>\n",
       "      <td>King</td>\n",
       "      <td>North Bend</td>\n",
       "      <td>WA</td>\n",
       "      <td>98045</td>\n",
       "      <td>2023</td>\n",
       "      <td>VOLVO</td>\n",
       "      <td>NaN</td>\n",
       "      <td>Battery Electric Vehicle (BEV)</td>\n",
       "      <td>Eligibility unknown as battery range has not b...</td>\n",
       "      <td>0</td>\n",
       "      <td>0</td>\n",
       "      <td>5.0</td>\n",
       "      <td>223998148</td>\n",
       "      <td>POINT (-121.7831 47.49348)</td>\n",
       "      <td>PUGET SOUND ENERGY INC||CITY OF TACOMA - (WA)</td>\n",
       "      <td>53033032704</td>\n",
       "    </tr>\n",
       "    <tr>\n",
       "      <th>86960</th>\n",
       "      <td>YV4ED3UM9P</td>\n",
       "      <td>King</td>\n",
       "      <td>Sammamish</td>\n",
       "      <td>WA</td>\n",
       "      <td>98075</td>\n",
       "      <td>2023</td>\n",
       "      <td>VOLVO</td>\n",
       "      <td>NaN</td>\n",
       "      <td>Battery Electric Vehicle (BEV)</td>\n",
       "      <td>Eligibility unknown as battery range has not b...</td>\n",
       "      <td>0</td>\n",
       "      <td>0</td>\n",
       "      <td>41.0</td>\n",
       "      <td>214714706</td>\n",
       "      <td>POINT (-122.03539 47.61344)</td>\n",
       "      <td>PUGET SOUND ENERGY INC||CITY OF TACOMA - (WA)</td>\n",
       "      <td>53033032213</td>\n",
       "    </tr>\n",
       "    <tr>\n",
       "      <th>88687</th>\n",
       "      <td>YV4ED3GM5P</td>\n",
       "      <td>King</td>\n",
       "      <td>Maple Valley</td>\n",
       "      <td>WA</td>\n",
       "      <td>98038</td>\n",
       "      <td>2023</td>\n",
       "      <td>VOLVO</td>\n",
       "      <td>NaN</td>\n",
       "      <td>Battery Electric Vehicle (BEV)</td>\n",
       "      <td>Eligibility unknown as battery range has not b...</td>\n",
       "      <td>0</td>\n",
       "      <td>0</td>\n",
       "      <td>5.0</td>\n",
       "      <td>224709726</td>\n",
       "      <td>POINT (-122.04526 47.39394)</td>\n",
       "      <td>PUGET SOUND ENERGY INC||CITY OF TACOMA - (WA)</td>\n",
       "      <td>53033031604</td>\n",
       "    </tr>\n",
       "    <tr>\n",
       "      <th>89882</th>\n",
       "      <td>YV4ED3UM5P</td>\n",
       "      <td>King</td>\n",
       "      <td>Bellevue</td>\n",
       "      <td>WA</td>\n",
       "      <td>98006</td>\n",
       "      <td>2023</td>\n",
       "      <td>VOLVO</td>\n",
       "      <td>NaN</td>\n",
       "      <td>Battery Electric Vehicle (BEV)</td>\n",
       "      <td>Eligibility unknown as battery range has not b...</td>\n",
       "      <td>0</td>\n",
       "      <td>0</td>\n",
       "      <td>41.0</td>\n",
       "      <td>214731254</td>\n",
       "      <td>POINT (-122.12096 47.55584)</td>\n",
       "      <td>PUGET SOUND ENERGY INC||CITY OF TACOMA - (WA)</td>\n",
       "      <td>53033025007</td>\n",
       "    </tr>\n",
       "    <tr>\n",
       "      <th>93197</th>\n",
       "      <td>YV4ED3GM8P</td>\n",
       "      <td>Snohomish</td>\n",
       "      <td>Bothell</td>\n",
       "      <td>WA</td>\n",
       "      <td>98021</td>\n",
       "      <td>2023</td>\n",
       "      <td>VOLVO</td>\n",
       "      <td>NaN</td>\n",
       "      <td>Battery Electric Vehicle (BEV)</td>\n",
       "      <td>Eligibility unknown as battery range has not b...</td>\n",
       "      <td>0</td>\n",
       "      <td>0</td>\n",
       "      <td>1.0</td>\n",
       "      <td>220532063</td>\n",
       "      <td>POINT (-122.18384 47.8031)</td>\n",
       "      <td>PUGET SOUND ENERGY INC</td>\n",
       "      <td>53061051926</td>\n",
       "    </tr>\n",
       "    <tr>\n",
       "      <th>103099</th>\n",
       "      <td>YV4ED3UW6P</td>\n",
       "      <td>Pierce</td>\n",
       "      <td>Milton</td>\n",
       "      <td>WA</td>\n",
       "      <td>98354</td>\n",
       "      <td>2023</td>\n",
       "      <td>VOLVO</td>\n",
       "      <td>NaN</td>\n",
       "      <td>Battery Electric Vehicle (BEV)</td>\n",
       "      <td>Eligibility unknown as battery range has not b...</td>\n",
       "      <td>0</td>\n",
       "      <td>0</td>\n",
       "      <td>30.0</td>\n",
       "      <td>213335454</td>\n",
       "      <td>POINT (-122.32172 47.24898)</td>\n",
       "      <td>BONNEVILLE POWER ADMINISTRATION||CITY OF MILTO...</td>\n",
       "      <td>53053070703</td>\n",
       "    </tr>\n",
       "    <tr>\n",
       "      <th>103394</th>\n",
       "      <td>YV4ED3GM5P</td>\n",
       "      <td>King</td>\n",
       "      <td>Seattle</td>\n",
       "      <td>WA</td>\n",
       "      <td>98133</td>\n",
       "      <td>2023</td>\n",
       "      <td>VOLVO</td>\n",
       "      <td>NaN</td>\n",
       "      <td>Battery Electric Vehicle (BEV)</td>\n",
       "      <td>Eligibility unknown as battery range has not b...</td>\n",
       "      <td>0</td>\n",
       "      <td>0</td>\n",
       "      <td>46.0</td>\n",
       "      <td>220589967</td>\n",
       "      <td>POINT (-122.3503 47.71868)</td>\n",
       "      <td>CITY OF SEATTLE - (WA)|CITY OF TACOMA - (WA)</td>\n",
       "      <td>53033000601</td>\n",
       "    </tr>\n",
       "    <tr>\n",
       "      <th>108116</th>\n",
       "      <td>YV4ED3GL1P</td>\n",
       "      <td>King</td>\n",
       "      <td>Seattle</td>\n",
       "      <td>WA</td>\n",
       "      <td>98104</td>\n",
       "      <td>2023</td>\n",
       "      <td>VOLVO</td>\n",
       "      <td>NaN</td>\n",
       "      <td>Battery Electric Vehicle (BEV)</td>\n",
       "      <td>Eligibility unknown as battery range has not b...</td>\n",
       "      <td>0</td>\n",
       "      <td>0</td>\n",
       "      <td>37.0</td>\n",
       "      <td>219268451</td>\n",
       "      <td>POINT (-122.32945 47.60357)</td>\n",
       "      <td>CITY OF SEATTLE - (WA)|CITY OF TACOMA - (WA)</td>\n",
       "      <td>53033009300</td>\n",
       "    </tr>\n",
       "    <tr>\n",
       "      <th>112622</th>\n",
       "      <td>YV4ED3GM0P</td>\n",
       "      <td>King</td>\n",
       "      <td>Covington</td>\n",
       "      <td>WA</td>\n",
       "      <td>98042</td>\n",
       "      <td>2023</td>\n",
       "      <td>VOLVO</td>\n",
       "      <td>NaN</td>\n",
       "      <td>Battery Electric Vehicle (BEV)</td>\n",
       "      <td>Eligibility unknown as battery range has not b...</td>\n",
       "      <td>0</td>\n",
       "      <td>0</td>\n",
       "      <td>47.0</td>\n",
       "      <td>224307996</td>\n",
       "      <td>POINT (-122.09124 47.33778)</td>\n",
       "      <td>PUGET SOUND ENERGY INC||CITY OF TACOMA - (WA)</td>\n",
       "      <td>53033031709</td>\n",
       "    </tr>\n",
       "  </tbody>\n",
       "</table>\n",
       "</div>"
      ],
      "text/plain": [
       "        VIN (1-10)     County          City State  Postal Code  Model Year  \\\n",
       "13874   YV4ED3GM2P       King       Seattle    WA        98115        2023   \n",
       "30517   YV4ED3UL3P       King       Seattle    WA        98115        2023   \n",
       "31936   YV4ED3GM4P    Clallam        Sequim    WA        98382        2023   \n",
       "37517   YV4ED3UW2P  Snohomish       Edmonds    WA        98026        2023   \n",
       "58071   YV4ED3UM4P       King        Renton    WA        98058        2023   \n",
       "61626   YV4ED3GM5P     Pierce        Tacoma    WA        98465        2023   \n",
       "63240   YV4ED3GMXP       King       Redmond    WA        98052        2023   \n",
       "63380   YV4ED3GM7P       King       Seattle    WA        98122        2023   \n",
       "63462   YV4ED3UW4P       King     Newcastle    WA        98059        2023   \n",
       "78472   YV4ED3UM1P       King     Fall City    WA        98024        2023   \n",
       "81302   YV4ED3UM5P       King       Redmond    WA        98052        2023   \n",
       "84142   YV4ED3UM2P       King    North Bend    WA        98045        2023   \n",
       "86960   YV4ED3UM9P       King     Sammamish    WA        98075        2023   \n",
       "88687   YV4ED3GM5P       King  Maple Valley    WA        98038        2023   \n",
       "89882   YV4ED3UM5P       King      Bellevue    WA        98006        2023   \n",
       "93197   YV4ED3GM8P  Snohomish       Bothell    WA        98021        2023   \n",
       "103099  YV4ED3UW6P     Pierce        Milton    WA        98354        2023   \n",
       "103394  YV4ED3GM5P       King       Seattle    WA        98133        2023   \n",
       "108116  YV4ED3GL1P       King       Seattle    WA        98104        2023   \n",
       "112622  YV4ED3GM0P       King     Covington    WA        98042        2023   \n",
       "\n",
       "         Make Model           Electric Vehicle Type  \\\n",
       "13874   VOLVO   NaN  Battery Electric Vehicle (BEV)   \n",
       "30517   VOLVO   NaN  Battery Electric Vehicle (BEV)   \n",
       "31936   VOLVO   NaN  Battery Electric Vehicle (BEV)   \n",
       "37517   VOLVO   NaN  Battery Electric Vehicle (BEV)   \n",
       "58071   VOLVO   NaN  Battery Electric Vehicle (BEV)   \n",
       "61626   VOLVO   NaN  Battery Electric Vehicle (BEV)   \n",
       "63240   VOLVO   NaN  Battery Electric Vehicle (BEV)   \n",
       "63380   VOLVO   NaN  Battery Electric Vehicle (BEV)   \n",
       "63462   VOLVO   NaN  Battery Electric Vehicle (BEV)   \n",
       "78472   VOLVO   NaN  Battery Electric Vehicle (BEV)   \n",
       "81302   VOLVO   NaN  Battery Electric Vehicle (BEV)   \n",
       "84142   VOLVO   NaN  Battery Electric Vehicle (BEV)   \n",
       "86960   VOLVO   NaN  Battery Electric Vehicle (BEV)   \n",
       "88687   VOLVO   NaN  Battery Electric Vehicle (BEV)   \n",
       "89882   VOLVO   NaN  Battery Electric Vehicle (BEV)   \n",
       "93197   VOLVO   NaN  Battery Electric Vehicle (BEV)   \n",
       "103099  VOLVO   NaN  Battery Electric Vehicle (BEV)   \n",
       "103394  VOLVO   NaN  Battery Electric Vehicle (BEV)   \n",
       "108116  VOLVO   NaN  Battery Electric Vehicle (BEV)   \n",
       "112622  VOLVO   NaN  Battery Electric Vehicle (BEV)   \n",
       "\n",
       "        Clean Alternative Fuel Vehicle (CAFV) Eligibility  Electric Range  \\\n",
       "13874   Eligibility unknown as battery range has not b...               0   \n",
       "30517   Eligibility unknown as battery range has not b...               0   \n",
       "31936   Eligibility unknown as battery range has not b...               0   \n",
       "37517   Eligibility unknown as battery range has not b...               0   \n",
       "58071   Eligibility unknown as battery range has not b...               0   \n",
       "61626   Eligibility unknown as battery range has not b...               0   \n",
       "63240   Eligibility unknown as battery range has not b...               0   \n",
       "63380   Eligibility unknown as battery range has not b...               0   \n",
       "63462   Eligibility unknown as battery range has not b...               0   \n",
       "78472   Eligibility unknown as battery range has not b...               0   \n",
       "81302   Eligibility unknown as battery range has not b...               0   \n",
       "84142   Eligibility unknown as battery range has not b...               0   \n",
       "86960   Eligibility unknown as battery range has not b...               0   \n",
       "88687   Eligibility unknown as battery range has not b...               0   \n",
       "89882   Eligibility unknown as battery range has not b...               0   \n",
       "93197   Eligibility unknown as battery range has not b...               0   \n",
       "103099  Eligibility unknown as battery range has not b...               0   \n",
       "103394  Eligibility unknown as battery range has not b...               0   \n",
       "108116  Eligibility unknown as battery range has not b...               0   \n",
       "112622  Eligibility unknown as battery range has not b...               0   \n",
       "\n",
       "        Base MSRP  Legislative District  DOL Vehicle ID  \\\n",
       "13874           0                  46.0       221526476   \n",
       "30517           0                  43.0       223881556   \n",
       "31936           0                  24.0       219769000   \n",
       "37517           0                  32.0       218357779   \n",
       "58071           0                  11.0       224511766   \n",
       "61626           0                  28.0       224496702   \n",
       "63240           0                  48.0       221295224   \n",
       "63380           0                  37.0       224280472   \n",
       "63462           0                  41.0       218912410   \n",
       "78472           0                   5.0       224631494   \n",
       "81302           0                  48.0       220511791   \n",
       "84142           0                   5.0       223998148   \n",
       "86960           0                  41.0       214714706   \n",
       "88687           0                   5.0       224709726   \n",
       "89882           0                  41.0       214731254   \n",
       "93197           0                   1.0       220532063   \n",
       "103099          0                  30.0       213335454   \n",
       "103394          0                  46.0       220589967   \n",
       "108116          0                  37.0       219268451   \n",
       "112622          0                  47.0       224307996   \n",
       "\n",
       "                   Vehicle Location  \\\n",
       "13874   POINT (-122.31765 47.70013)   \n",
       "30517   POINT (-122.31765 47.70013)   \n",
       "31936   POINT (-123.10367 48.07965)   \n",
       "37517   POINT (-122.31768 47.87166)   \n",
       "58071    POINT (-122.08747 47.4466)   \n",
       "61626   POINT (-122.52886 47.24977)   \n",
       "63240   POINT (-122.13158 47.67858)   \n",
       "63380   POINT (-122.31009 47.60803)   \n",
       "63462   POINT (-122.15771 47.50549)   \n",
       "78472   POINT (-121.89086 47.56812)   \n",
       "81302   POINT (-122.13158 47.67858)   \n",
       "84142    POINT (-121.7831 47.49348)   \n",
       "86960   POINT (-122.03539 47.61344)   \n",
       "88687   POINT (-122.04526 47.39394)   \n",
       "89882   POINT (-122.12096 47.55584)   \n",
       "93197    POINT (-122.18384 47.8031)   \n",
       "103099  POINT (-122.32172 47.24898)   \n",
       "103394   POINT (-122.3503 47.71868)   \n",
       "108116  POINT (-122.32945 47.60357)   \n",
       "112622  POINT (-122.09124 47.33778)   \n",
       "\n",
       "                                         Electric Utility  2020 Census Tract  \n",
       "13874       PUGET SOUND ENERGY INC||CITY OF TACOMA - (WA)        53033002200  \n",
       "30517        CITY OF SEATTLE - (WA)|CITY OF TACOMA - (WA)        53033003601  \n",
       "31936   BONNEVILLE POWER ADMINISTRATION||PUD NO 1 OF C...        53009002301  \n",
       "37517                              PUGET SOUND ENERGY INC        53061050700  \n",
       "58071       PUGET SOUND ENERGY INC||CITY OF TACOMA - (WA)        53033031911  \n",
       "61626   BONNEVILLE POWER ADMINISTRATION||CITY OF TACOM...        53053061001  \n",
       "63240       PUGET SOUND ENERGY INC||CITY OF TACOMA - (WA)        53033032324  \n",
       "63380        CITY OF SEATTLE - (WA)|CITY OF TACOMA - (WA)        53033007800  \n",
       "63462       PUGET SOUND ENERGY INC||CITY OF TACOMA - (WA)        53033025005  \n",
       "78472       PUGET SOUND ENERGY INC||CITY OF TACOMA - (WA)        53033032221  \n",
       "81302       PUGET SOUND ENERGY INC||CITY OF TACOMA - (WA)        53033022902  \n",
       "84142       PUGET SOUND ENERGY INC||CITY OF TACOMA - (WA)        53033032704  \n",
       "86960       PUGET SOUND ENERGY INC||CITY OF TACOMA - (WA)        53033032213  \n",
       "88687       PUGET SOUND ENERGY INC||CITY OF TACOMA - (WA)        53033031604  \n",
       "89882       PUGET SOUND ENERGY INC||CITY OF TACOMA - (WA)        53033025007  \n",
       "93197                              PUGET SOUND ENERGY INC        53061051926  \n",
       "103099  BONNEVILLE POWER ADMINISTRATION||CITY OF MILTO...        53053070703  \n",
       "103394       CITY OF SEATTLE - (WA)|CITY OF TACOMA - (WA)        53033000601  \n",
       "108116       CITY OF SEATTLE - (WA)|CITY OF TACOMA - (WA)        53033009300  \n",
       "112622      PUGET SOUND ENERGY INC||CITY OF TACOMA - (WA)        53033031709  "
      ]
     },
     "execution_count": 10,
     "metadata": {},
     "output_type": "execute_result"
    }
   ],
   "source": [
    "# View the missing or Null values\n",
    "ev_data[ev_data.Model.isna()]"
   ]
  },
  {
   "cell_type": "markdown",
   "id": "4c31357e",
   "metadata": {},
   "source": [
    "### 🌟`Important Observations` :\n",
    "- Byseeing the data of Null or Missing values in the where make is Volvo and model year is 2023 there we have most of the null values model and might be the reson for the null values."
   ]
  },
  {
   "cell_type": "code",
   "execution_count": 11,
   "id": "d067432d",
   "metadata": {
    "ExecuteTime": {
     "end_time": "2023-07-23T05:40:29.895548Z",
     "start_time": "2023-07-23T05:40:29.870547Z"
    },
    "scrolled": false
   },
   "outputs": [
    {
     "data": {
      "text/html": [
       "<div>\n",
       "<style scoped>\n",
       "    .dataframe tbody tr th:only-of-type {\n",
       "        vertical-align: middle;\n",
       "    }\n",
       "\n",
       "    .dataframe tbody tr th {\n",
       "        vertical-align: top;\n",
       "    }\n",
       "\n",
       "    .dataframe thead th {\n",
       "        text-align: right;\n",
       "    }\n",
       "</style>\n",
       "<table border=\"1\" class=\"dataframe\">\n",
       "  <thead>\n",
       "    <tr style=\"text-align: right;\">\n",
       "      <th></th>\n",
       "      <th>VIN (1-10)</th>\n",
       "      <th>County</th>\n",
       "      <th>City</th>\n",
       "      <th>State</th>\n",
       "      <th>Postal Code</th>\n",
       "      <th>Model Year</th>\n",
       "      <th>Make</th>\n",
       "      <th>Model</th>\n",
       "      <th>Electric Vehicle Type</th>\n",
       "      <th>Clean Alternative Fuel Vehicle (CAFV) Eligibility</th>\n",
       "      <th>Electric Range</th>\n",
       "      <th>Base MSRP</th>\n",
       "      <th>Legislative District</th>\n",
       "      <th>DOL Vehicle ID</th>\n",
       "      <th>Vehicle Location</th>\n",
       "      <th>Electric Utility</th>\n",
       "      <th>2020 Census Tract</th>\n",
       "    </tr>\n",
       "  </thead>\n",
       "  <tbody>\n",
       "    <tr>\n",
       "      <th>0</th>\n",
       "      <td>JTMEB3FV6N</td>\n",
       "      <td>Monroe</td>\n",
       "      <td>Key West</td>\n",
       "      <td>FL</td>\n",
       "      <td>33040</td>\n",
       "      <td>2022</td>\n",
       "      <td>TOYOTA</td>\n",
       "      <td>RAV4 PRIME</td>\n",
       "      <td>Plug-in Hybrid Electric Vehicle (PHEV)</td>\n",
       "      <td>Clean Alternative Fuel Vehicle Eligible</td>\n",
       "      <td>42</td>\n",
       "      <td>0</td>\n",
       "      <td>NaN</td>\n",
       "      <td>198968248</td>\n",
       "      <td>POINT (-81.80023 24.5545)</td>\n",
       "      <td>NaN</td>\n",
       "      <td>12087972100</td>\n",
       "    </tr>\n",
       "    <tr>\n",
       "      <th>1</th>\n",
       "      <td>1G1RD6E45D</td>\n",
       "      <td>Clark</td>\n",
       "      <td>Laughlin</td>\n",
       "      <td>NV</td>\n",
       "      <td>89029</td>\n",
       "      <td>2013</td>\n",
       "      <td>CHEVROLET</td>\n",
       "      <td>VOLT</td>\n",
       "      <td>Plug-in Hybrid Electric Vehicle (PHEV)</td>\n",
       "      <td>Clean Alternative Fuel Vehicle Eligible</td>\n",
       "      <td>38</td>\n",
       "      <td>0</td>\n",
       "      <td>NaN</td>\n",
       "      <td>5204412</td>\n",
       "      <td>POINT (-114.57245 35.16815)</td>\n",
       "      <td>NaN</td>\n",
       "      <td>32003005702</td>\n",
       "    </tr>\n",
       "    <tr>\n",
       "      <th>12</th>\n",
       "      <td>3C3CFFGE3G</td>\n",
       "      <td>St. Clair</td>\n",
       "      <td>Mascoutah</td>\n",
       "      <td>IL</td>\n",
       "      <td>62258</td>\n",
       "      <td>2016</td>\n",
       "      <td>FIAT</td>\n",
       "      <td>500</td>\n",
       "      <td>Battery Electric Vehicle (BEV)</td>\n",
       "      <td>Clean Alternative Fuel Vehicle Eligible</td>\n",
       "      <td>84</td>\n",
       "      <td>0</td>\n",
       "      <td>NaN</td>\n",
       "      <td>153786167</td>\n",
       "      <td>POINT (-89.79939 38.49028)</td>\n",
       "      <td>NaN</td>\n",
       "      <td>17163504356</td>\n",
       "    </tr>\n",
       "    <tr>\n",
       "      <th>19</th>\n",
       "      <td>5YJXCAE28G</td>\n",
       "      <td>Saratoga</td>\n",
       "      <td>Greenfield Center</td>\n",
       "      <td>NY</td>\n",
       "      <td>12833</td>\n",
       "      <td>2016</td>\n",
       "      <td>TESLA</td>\n",
       "      <td>MODEL X</td>\n",
       "      <td>Battery Electric Vehicle (BEV)</td>\n",
       "      <td>Clean Alternative Fuel Vehicle Eligible</td>\n",
       "      <td>200</td>\n",
       "      <td>0</td>\n",
       "      <td>NaN</td>\n",
       "      <td>218050878</td>\n",
       "      <td>POINT (-73.84643 43.1284)</td>\n",
       "      <td>NaN</td>\n",
       "      <td>36091060601</td>\n",
       "    </tr>\n",
       "    <tr>\n",
       "      <th>41</th>\n",
       "      <td>5YJSA1E22G</td>\n",
       "      <td>Newport News</td>\n",
       "      <td>Newport News</td>\n",
       "      <td>VA</td>\n",
       "      <td>23602</td>\n",
       "      <td>2016</td>\n",
       "      <td>TESLA</td>\n",
       "      <td>MODEL S</td>\n",
       "      <td>Battery Electric Vehicle (BEV)</td>\n",
       "      <td>Clean Alternative Fuel Vehicle Eligible</td>\n",
       "      <td>210</td>\n",
       "      <td>0</td>\n",
       "      <td>NaN</td>\n",
       "      <td>111593331</td>\n",
       "      <td>POINT (-76.53585 37.10499)</td>\n",
       "      <td>NaN</td>\n",
       "      <td>51700032131</td>\n",
       "    </tr>\n",
       "    <tr>\n",
       "      <th>...</th>\n",
       "      <td>...</td>\n",
       "      <td>...</td>\n",
       "      <td>...</td>\n",
       "      <td>...</td>\n",
       "      <td>...</td>\n",
       "      <td>...</td>\n",
       "      <td>...</td>\n",
       "      <td>...</td>\n",
       "      <td>...</td>\n",
       "      <td>...</td>\n",
       "      <td>...</td>\n",
       "      <td>...</td>\n",
       "      <td>...</td>\n",
       "      <td>...</td>\n",
       "      <td>...</td>\n",
       "      <td>...</td>\n",
       "      <td>...</td>\n",
       "    </tr>\n",
       "    <tr>\n",
       "      <th>112153</th>\n",
       "      <td>1G1RB6E46F</td>\n",
       "      <td>Carroll</td>\n",
       "      <td>North Conway</td>\n",
       "      <td>NH</td>\n",
       "      <td>3860</td>\n",
       "      <td>2015</td>\n",
       "      <td>CHEVROLET</td>\n",
       "      <td>VOLT</td>\n",
       "      <td>Plug-in Hybrid Electric Vehicle (PHEV)</td>\n",
       "      <td>Clean Alternative Fuel Vehicle Eligible</td>\n",
       "      <td>38</td>\n",
       "      <td>0</td>\n",
       "      <td>NaN</td>\n",
       "      <td>177816061</td>\n",
       "      <td>POINT (-71.12513 44.04945)</td>\n",
       "      <td>NaN</td>\n",
       "      <td>33003955302</td>\n",
       "    </tr>\n",
       "    <tr>\n",
       "      <th>112301</th>\n",
       "      <td>5YJ3E1EB9M</td>\n",
       "      <td>Dorchester</td>\n",
       "      <td>Summerville</td>\n",
       "      <td>SC</td>\n",
       "      <td>29483</td>\n",
       "      <td>2021</td>\n",
       "      <td>TESLA</td>\n",
       "      <td>MODEL 3</td>\n",
       "      <td>Battery Electric Vehicle (BEV)</td>\n",
       "      <td>Eligibility unknown as battery range has not b...</td>\n",
       "      <td>0</td>\n",
       "      <td>0</td>\n",
       "      <td>NaN</td>\n",
       "      <td>179604183</td>\n",
       "      <td>POINT (-80.17601 33.01897)</td>\n",
       "      <td>NaN</td>\n",
       "      <td>45035010506</td>\n",
       "    </tr>\n",
       "    <tr>\n",
       "      <th>112394</th>\n",
       "      <td>5UXKT0C36H</td>\n",
       "      <td>Leavenworth</td>\n",
       "      <td>Lansing</td>\n",
       "      <td>KS</td>\n",
       "      <td>66043</td>\n",
       "      <td>2017</td>\n",
       "      <td>BMW</td>\n",
       "      <td>X5</td>\n",
       "      <td>Plug-in Hybrid Electric Vehicle (PHEV)</td>\n",
       "      <td>Not eligible due to low battery range</td>\n",
       "      <td>14</td>\n",
       "      <td>0</td>\n",
       "      <td>NaN</td>\n",
       "      <td>122897484</td>\n",
       "      <td>POINT (-94.89874 39.23762)</td>\n",
       "      <td>NaN</td>\n",
       "      <td>20103071104</td>\n",
       "    </tr>\n",
       "    <tr>\n",
       "      <th>112541</th>\n",
       "      <td>JA4J24A50J</td>\n",
       "      <td>Williams</td>\n",
       "      <td>Williston</td>\n",
       "      <td>ND</td>\n",
       "      <td>58802</td>\n",
       "      <td>2018</td>\n",
       "      <td>MITSUBISHI</td>\n",
       "      <td>OUTLANDER</td>\n",
       "      <td>Plug-in Hybrid Electric Vehicle (PHEV)</td>\n",
       "      <td>Not eligible due to low battery range</td>\n",
       "      <td>22</td>\n",
       "      <td>0</td>\n",
       "      <td>NaN</td>\n",
       "      <td>2592005</td>\n",
       "      <td>POINT (7.86484 51.32975)</td>\n",
       "      <td>NaN</td>\n",
       "      <td>38105954100</td>\n",
       "    </tr>\n",
       "    <tr>\n",
       "      <th>112603</th>\n",
       "      <td>7FCTGAAL7N</td>\n",
       "      <td>Kootenai</td>\n",
       "      <td>Worley</td>\n",
       "      <td>ID</td>\n",
       "      <td>83876</td>\n",
       "      <td>2022</td>\n",
       "      <td>RIVIAN</td>\n",
       "      <td>R1T</td>\n",
       "      <td>Battery Electric Vehicle (BEV)</td>\n",
       "      <td>Eligibility unknown as battery range has not b...</td>\n",
       "      <td>0</td>\n",
       "      <td>0</td>\n",
       "      <td>NaN</td>\n",
       "      <td>211894693</td>\n",
       "      <td>POINT (-116.91895 47.40077)</td>\n",
       "      <td>NaN</td>\n",
       "      <td>16055940000</td>\n",
       "    </tr>\n",
       "  </tbody>\n",
       "</table>\n",
       "<p>286 rows × 17 columns</p>\n",
       "</div>"
      ],
      "text/plain": [
       "        VIN (1-10)        County               City State  Postal Code  \\\n",
       "0       JTMEB3FV6N        Monroe           Key West    FL        33040   \n",
       "1       1G1RD6E45D         Clark           Laughlin    NV        89029   \n",
       "12      3C3CFFGE3G     St. Clair          Mascoutah    IL        62258   \n",
       "19      5YJXCAE28G      Saratoga  Greenfield Center    NY        12833   \n",
       "41      5YJSA1E22G  Newport News       Newport News    VA        23602   \n",
       "...            ...           ...                ...   ...          ...   \n",
       "112153  1G1RB6E46F       Carroll       North Conway    NH         3860   \n",
       "112301  5YJ3E1EB9M    Dorchester        Summerville    SC        29483   \n",
       "112394  5UXKT0C36H   Leavenworth            Lansing    KS        66043   \n",
       "112541  JA4J24A50J      Williams          Williston    ND        58802   \n",
       "112603  7FCTGAAL7N      Kootenai             Worley    ID        83876   \n",
       "\n",
       "        Model Year        Make       Model  \\\n",
       "0             2022      TOYOTA  RAV4 PRIME   \n",
       "1             2013   CHEVROLET        VOLT   \n",
       "12            2016        FIAT         500   \n",
       "19            2016       TESLA     MODEL X   \n",
       "41            2016       TESLA     MODEL S   \n",
       "...            ...         ...         ...   \n",
       "112153        2015   CHEVROLET        VOLT   \n",
       "112301        2021       TESLA     MODEL 3   \n",
       "112394        2017         BMW          X5   \n",
       "112541        2018  MITSUBISHI   OUTLANDER   \n",
       "112603        2022      RIVIAN         R1T   \n",
       "\n",
       "                         Electric Vehicle Type  \\\n",
       "0       Plug-in Hybrid Electric Vehicle (PHEV)   \n",
       "1       Plug-in Hybrid Electric Vehicle (PHEV)   \n",
       "12              Battery Electric Vehicle (BEV)   \n",
       "19              Battery Electric Vehicle (BEV)   \n",
       "41              Battery Electric Vehicle (BEV)   \n",
       "...                                        ...   \n",
       "112153  Plug-in Hybrid Electric Vehicle (PHEV)   \n",
       "112301          Battery Electric Vehicle (BEV)   \n",
       "112394  Plug-in Hybrid Electric Vehicle (PHEV)   \n",
       "112541  Plug-in Hybrid Electric Vehicle (PHEV)   \n",
       "112603          Battery Electric Vehicle (BEV)   \n",
       "\n",
       "        Clean Alternative Fuel Vehicle (CAFV) Eligibility  Electric Range  \\\n",
       "0                 Clean Alternative Fuel Vehicle Eligible              42   \n",
       "1                 Clean Alternative Fuel Vehicle Eligible              38   \n",
       "12                Clean Alternative Fuel Vehicle Eligible              84   \n",
       "19                Clean Alternative Fuel Vehicle Eligible             200   \n",
       "41                Clean Alternative Fuel Vehicle Eligible             210   \n",
       "...                                                   ...             ...   \n",
       "112153            Clean Alternative Fuel Vehicle Eligible              38   \n",
       "112301  Eligibility unknown as battery range has not b...               0   \n",
       "112394              Not eligible due to low battery range              14   \n",
       "112541              Not eligible due to low battery range              22   \n",
       "112603  Eligibility unknown as battery range has not b...               0   \n",
       "\n",
       "        Base MSRP  Legislative District  DOL Vehicle ID  \\\n",
       "0               0                   NaN       198968248   \n",
       "1               0                   NaN         5204412   \n",
       "12              0                   NaN       153786167   \n",
       "19              0                   NaN       218050878   \n",
       "41              0                   NaN       111593331   \n",
       "...           ...                   ...             ...   \n",
       "112153          0                   NaN       177816061   \n",
       "112301          0                   NaN       179604183   \n",
       "112394          0                   NaN       122897484   \n",
       "112541          0                   NaN         2592005   \n",
       "112603          0                   NaN       211894693   \n",
       "\n",
       "                   Vehicle Location Electric Utility  2020 Census Tract  \n",
       "0         POINT (-81.80023 24.5545)              NaN        12087972100  \n",
       "1       POINT (-114.57245 35.16815)              NaN        32003005702  \n",
       "12       POINT (-89.79939 38.49028)              NaN        17163504356  \n",
       "19        POINT (-73.84643 43.1284)              NaN        36091060601  \n",
       "41       POINT (-76.53585 37.10499)              NaN        51700032131  \n",
       "...                             ...              ...                ...  \n",
       "112153   POINT (-71.12513 44.04945)              NaN        33003955302  \n",
       "112301   POINT (-80.17601 33.01897)              NaN        45035010506  \n",
       "112394   POINT (-94.89874 39.23762)              NaN        20103071104  \n",
       "112541     POINT (7.86484 51.32975)              NaN        38105954100  \n",
       "112603  POINT (-116.91895 47.40077)              NaN        16055940000  \n",
       "\n",
       "[286 rows x 17 columns]"
      ]
     },
     "execution_count": 11,
     "metadata": {},
     "output_type": "execute_result"
    }
   ],
   "source": [
    "ev_data[ev_data['Legislative District'].isna()]"
   ]
  },
  {
   "cell_type": "markdown",
   "id": "f90d8dcd",
   "metadata": {},
   "source": [
    "### 🌟`Important Observations` :\n",
    "- Byseeing the data of Null or Missing values Imputation methods is the best option for imputing the null values using Simple Imputer because we donot lose the data."
   ]
  },
  {
   "cell_type": "code",
   "execution_count": 12,
   "id": "0891d288",
   "metadata": {
    "ExecuteTime": {
     "end_time": "2023-07-23T05:40:30.384018Z",
     "start_time": "2023-07-23T05:40:30.368986Z"
    }
   },
   "outputs": [
    {
     "data": {
      "text/plain": [
       "MODEL 3        23135\n",
       "MODEL Y        17142\n",
       "LEAF           12880\n",
       "MODEL S         7377\n",
       "BOLT EV         4910\n",
       "               ...  \n",
       "745LE              2\n",
       "S-10 PICKUP        1\n",
       "SOLTERRA           1\n",
       "918                1\n",
       "FLYING SPUR        1\n",
       "Name: Model, Length: 114, dtype: int64"
      ]
     },
     "execution_count": 12,
     "metadata": {},
     "output_type": "execute_result"
    }
   ],
   "source": [
    "ev_data.Model.value_counts()"
   ]
  },
  {
   "cell_type": "code",
   "execution_count": 13,
   "id": "792640b4",
   "metadata": {
    "ExecuteTime": {
     "end_time": "2023-07-23T05:40:31.296577Z",
     "start_time": "2023-07-23T05:40:30.921842Z"
    }
   },
   "outputs": [],
   "source": [
    "from sklearn.impute import SimpleImputer\n",
    "imputer = SimpleImputer(strategy='most_frequent')\n",
    "imputer.fit(ev_data[['Model','Legislative District','Vehicle Location','Electric Utility']])\n",
    "ev_data['Model'] = imputer.fit_transform(ev_data[['Model']])\n",
    "ev_data['Legislative District'] = imputer.fit_transform(ev_data[['Legislative District']])\n",
    "ev_data['Vehicle Location'] = imputer.fit_transform(ev_data[['Vehicle Location']])\n",
    "ev_data['Electric Utility'] = imputer.fit_transform(ev_data[['Electric Utility']])"
   ]
  },
  {
   "cell_type": "code",
   "execution_count": 14,
   "id": "9f10c747",
   "metadata": {
    "ExecuteTime": {
     "end_time": "2023-07-23T05:40:31.483759Z",
     "start_time": "2023-07-23T05:40:31.358383Z"
    }
   },
   "outputs": [
    {
     "data": {
      "text/plain": [
       "VIN (1-10)                                           0\n",
       "County                                               0\n",
       "City                                                 0\n",
       "State                                                0\n",
       "Postal Code                                          0\n",
       "Model Year                                           0\n",
       "Make                                                 0\n",
       "Model                                                0\n",
       "Electric Vehicle Type                                0\n",
       "Clean Alternative Fuel Vehicle (CAFV) Eligibility    0\n",
       "Electric Range                                       0\n",
       "Base MSRP                                            0\n",
       "Legislative District                                 0\n",
       "DOL Vehicle ID                                       0\n",
       "Vehicle Location                                     0\n",
       "Electric Utility                                     0\n",
       "2020 Census Tract                                    0\n",
       "dtype: int64"
      ]
     },
     "execution_count": 14,
     "metadata": {},
     "output_type": "execute_result"
    }
   ],
   "source": [
    "ev_data.isna().sum()"
   ]
  },
  {
   "cell_type": "code",
   "execution_count": 15,
   "id": "7537c763",
   "metadata": {
    "ExecuteTime": {
     "end_time": "2023-07-23T05:40:31.731526Z",
     "start_time": "2023-07-23T05:40:31.717530Z"
    }
   },
   "outputs": [
    {
     "data": {
      "text/plain": [
       "VIN (1-10)                                                                                  YV4ED3GM2P\n",
       "County                                                                                            King\n",
       "City                                                                                           Seattle\n",
       "State                                                                                               WA\n",
       "Postal Code                                                                                      98115\n",
       "Model Year                                                                                        2023\n",
       "Make                                                                                             VOLVO\n",
       "Model                                                                                          MODEL 3\n",
       "Electric Vehicle Type                                                   Battery Electric Vehicle (BEV)\n",
       "Clean Alternative Fuel Vehicle (CAFV) Eligibility    Eligibility unknown as battery range has not b...\n",
       "Electric Range                                                                                       0\n",
       "Base MSRP                                                                                            0\n",
       "Legislative District                                                                              46.0\n",
       "DOL Vehicle ID                                                                               221526476\n",
       "Vehicle Location                                                           POINT (-122.31765 47.70013)\n",
       "Electric Utility                                         PUGET SOUND ENERGY INC||CITY OF TACOMA - (WA)\n",
       "2020 Census Tract                                                                          53033002200\n",
       "Name: 13874, dtype: object"
      ]
     },
     "execution_count": 15,
     "metadata": {},
     "output_type": "execute_result"
    }
   ],
   "source": [
    "ev_data.iloc[13874]"
   ]
  },
  {
   "cell_type": "code",
   "execution_count": 16,
   "id": "2f2b9ef2",
   "metadata": {
    "ExecuteTime": {
     "end_time": "2023-07-23T05:40:32.171808Z",
     "start_time": "2023-07-23T05:40:32.156776Z"
    }
   },
   "outputs": [
    {
     "data": {
      "text/plain": [
       "MODEL 3        23155\n",
       "MODEL Y        17142\n",
       "LEAF           12880\n",
       "MODEL S         7377\n",
       "BOLT EV         4910\n",
       "               ...  \n",
       "745LE              2\n",
       "S-10 PICKUP        1\n",
       "SOLTERRA           1\n",
       "918                1\n",
       "FLYING SPUR        1\n",
       "Name: Model, Length: 114, dtype: int64"
      ]
     },
     "execution_count": 16,
     "metadata": {},
     "output_type": "execute_result"
    }
   ],
   "source": [
    "ev_data.Model.value_counts()"
   ]
  },
  {
   "cell_type": "markdown",
   "id": "4ffc5e1b",
   "metadata": {},
   "source": [
    "### *`Checking If any corrupted values are present`*"
   ]
  },
  {
   "cell_type": "code",
   "execution_count": 17,
   "id": "bd24d33e",
   "metadata": {
    "ExecuteTime": {
     "end_time": "2023-07-23T05:40:34.122383Z",
     "start_time": "2023-07-23T05:40:34.004354Z"
    }
   },
   "outputs": [
    {
     "name": "stdout",
     "output_type": "stream",
     "text": [
      "<class 'pandas.core.frame.DataFrame'>\n",
      "RangeIndex: 112634 entries, 0 to 112633\n",
      "Data columns (total 17 columns):\n",
      " #   Column                                             Non-Null Count   Dtype  \n",
      "---  ------                                             --------------   -----  \n",
      " 0   VIN (1-10)                                         112634 non-null  object \n",
      " 1   County                                             112634 non-null  object \n",
      " 2   City                                               112634 non-null  object \n",
      " 3   State                                              112634 non-null  object \n",
      " 4   Postal Code                                        112634 non-null  int64  \n",
      " 5   Model Year                                         112634 non-null  int64  \n",
      " 6   Make                                               112634 non-null  object \n",
      " 7   Model                                              112634 non-null  object \n",
      " 8   Electric Vehicle Type                              112634 non-null  object \n",
      " 9   Clean Alternative Fuel Vehicle (CAFV) Eligibility  112634 non-null  object \n",
      " 10  Electric Range                                     112634 non-null  int64  \n",
      " 11  Base MSRP                                          112634 non-null  int64  \n",
      " 12  Legislative District                               112634 non-null  float64\n",
      " 13  DOL Vehicle ID                                     112634 non-null  int64  \n",
      " 14  Vehicle Location                                   112634 non-null  object \n",
      " 15  Electric Utility                                   112634 non-null  object \n",
      " 16  2020 Census Tract                                  112634 non-null  int64  \n",
      "dtypes: float64(1), int64(6), object(10)\n",
      "memory usage: 14.6+ MB\n"
     ]
    }
   ],
   "source": [
    "# Identifying the corrupted values by seeing info() of the data.\n",
    "ev_data.info()"
   ]
  },
  {
   "cell_type": "markdown",
   "id": "b83310d2",
   "metadata": {},
   "source": [
    "### *`Checking or Identifying the outliers`*"
   ]
  },
  {
   "cell_type": "code",
   "execution_count": 18,
   "id": "1d7042d3",
   "metadata": {
    "ExecuteTime": {
     "end_time": "2023-07-23T05:40:35.770419Z",
     "start_time": "2023-07-23T05:40:35.741385Z"
    }
   },
   "outputs": [
    {
     "data": {
      "text/plain": [
       "Postal Code            -27.955285\n",
       "Model Year              -0.817579\n",
       "Electric Range           0.817103\n",
       "Base MSRP               10.100497\n",
       "Legislative District    -0.546495\n",
       "DOL Vehicle ID           1.149258\n",
       "2020 Census Tract      -25.013927\n",
       "dtype: float64"
      ]
     },
     "execution_count": 18,
     "metadata": {},
     "output_type": "execute_result"
    }
   ],
   "source": [
    "ev_data.skew(numeric_only=True)"
   ]
  },
  {
   "cell_type": "markdown",
   "id": "a9c793f1",
   "metadata": {},
   "source": [
    "### 🌟`Important Observations` :\n",
    "- Legislative District skewness is -0.54. so, the data is fairly symetrical.\n",
    "- Model Year, Electric Range, DOL Vehicle ID are moderately skewed.\n",
    "- Postal Code and 2020 Census Tract are highly skewed."
   ]
  },
  {
   "cell_type": "code",
   "execution_count": null,
   "id": "a58a799c",
   "metadata": {
    "ExecuteTime": {
     "end_time": "2023-07-23T05:37:25.308160Z",
     "start_time": "2023-07-23T05:37:24.385540Z"
    }
   },
   "outputs": [],
   "source": [
    "px.box(data_frame=ev_data, x='Model Year')"
   ]
  },
  {
   "cell_type": "code",
   "execution_count": null,
   "id": "38d4e54b",
   "metadata": {
    "ExecuteTime": {
     "end_time": "2023-07-23T05:37:25.419154Z",
     "start_time": "2023-07-23T05:37:25.310152Z"
    }
   },
   "outputs": [],
   "source": [
    "px.box(ev_data, x='Electric Range')"
   ]
  },
  {
   "cell_type": "code",
   "execution_count": null,
   "id": "a4fba061",
   "metadata": {
    "ExecuteTime": {
     "end_time": "2023-07-23T05:37:25.531153Z",
     "start_time": "2023-07-23T05:37:25.420160Z"
    }
   },
   "outputs": [],
   "source": [
    "px.box(ev_data, x='Base MSRP')"
   ]
  },
  {
   "cell_type": "code",
   "execution_count": 22,
   "id": "1b5473f2",
   "metadata": {
    "ExecuteTime": {
     "end_time": "2023-07-23T05:37:25.547151Z",
     "start_time": "2023-07-23T05:37:25.533186Z"
    }
   },
   "outputs": [
    {
     "data": {
      "text/plain": [
       "0         109122\n",
       "69900       1497\n",
       "31950        407\n",
       "52900        214\n",
       "32250        160\n",
       "54950        135\n",
       "59900        134\n",
       "39995        119\n",
       "36900        100\n",
       "44100         97\n",
       "64950         83\n",
       "33950         78\n",
       "45600         76\n",
       "52650         67\n",
       "34995         58\n",
       "36800         50\n",
       "55700         47\n",
       "53400         28\n",
       "110950        24\n",
       "98950         23\n",
       "102000        20\n",
       "90700         19\n",
       "81100         19\n",
       "75095         16\n",
       "184400        12\n",
       "43700         10\n",
       "109000         7\n",
       "89100          7\n",
       "91250          4\n",
       "845000         1\n",
       "Name: Base MSRP, dtype: int64"
      ]
     },
     "execution_count": 22,
     "metadata": {},
     "output_type": "execute_result"
    }
   ],
   "source": [
    "ev_data['Base MSRP'].value_counts()"
   ]
  },
  {
   "cell_type": "markdown",
   "id": "aa7316b9",
   "metadata": {},
   "source": [
    "### 🌟`Important Observations` :\n",
    "- There are more most of the zeros in the Base MSRP column so, all the other values are falling as outliers because of that."
   ]
  },
  {
   "cell_type": "code",
   "execution_count": null,
   "id": "828faa2b",
   "metadata": {
    "ExecuteTime": {
     "end_time": "2023-07-23T05:37:32.009750Z",
     "start_time": "2023-07-23T05:37:31.868718Z"
    }
   },
   "outputs": [],
   "source": [
    "px.box(ev_data, x='Legislative District')"
   ]
  },
  {
   "cell_type": "code",
   "execution_count": null,
   "id": "f7f5d395",
   "metadata": {
    "ExecuteTime": {
     "end_time": "2023-07-23T05:37:32.329274Z",
     "start_time": "2023-07-23T05:37:32.199718Z"
    }
   },
   "outputs": [],
   "source": [
    "px.box(ev_data, x='DOL Vehicle ID')"
   ]
  },
  {
   "cell_type": "code",
   "execution_count": null,
   "id": "aff12fee",
   "metadata": {
    "ExecuteTime": {
     "end_time": "2023-07-23T05:37:32.539231Z",
     "start_time": "2023-07-23T05:37:32.411232Z"
    }
   },
   "outputs": [],
   "source": [
    "px.box(ev_data, x='2020 Census Tract')"
   ]
  },
  {
   "cell_type": "markdown",
   "id": "6f3d0263",
   "metadata": {},
   "source": [
    "### Task1 - Apply Exploratory Data Analysis(Univariate and Bivariate) using plotly.express library."
   ]
  },
  {
   "cell_type": "code",
   "execution_count": null,
   "id": "60e78b3f",
   "metadata": {
    "ExecuteTime": {
     "end_time": "2023-07-23T05:37:40.669852Z",
     "start_time": "2023-07-23T05:37:40.440209Z"
    }
   },
   "outputs": [],
   "source": [
    "px.histogram(ev_data, x=\"Model\", title=\"Frequency Distribution of Models in Electric Vehicle data\")"
   ]
  },
  {
   "cell_type": "markdown",
   "id": "ea6a7b20",
   "metadata": {},
   "source": [
    "### 🌟`Important Observations` :\n",
    "- Model 3 is the Most Frequent Model in the data with the count of 23.155k and Model Y is the second most frequent Model in the data with the count of 17.142k.\n",
    "- Model Leaf is also a most frequent Model and with the count of 12.88K."
   ]
  },
  {
   "cell_type": "code",
   "execution_count": null,
   "id": "1738938a",
   "metadata": {
    "ExecuteTime": {
     "end_time": "2023-07-23T05:37:41.148345Z",
     "start_time": "2023-07-23T05:37:41.016087Z"
    }
   },
   "outputs": [],
   "source": [
    "px.histogram(ev_data,x='Model Year', title=\"Year wise Frequency Distributions\")"
   ]
  },
  {
   "cell_type": "markdown",
   "id": "b1573cd4",
   "metadata": {},
   "source": [
    "### 🌟`Important Observations` :\n",
    "- Production of Electric vehicles is increasing year by year and sightly we can observe the there is also a rise fall from 2018 to 2019.\n",
    "- In 2022 there is highest production of Electric vehicles and reached upto 26,53k vechiles."
   ]
  },
  {
   "cell_type": "code",
   "execution_count": null,
   "id": "c2c7e70d",
   "metadata": {
    "ExecuteTime": {
     "end_time": "2023-07-23T05:37:41.578669Z",
     "start_time": "2023-07-23T05:37:41.495670Z"
    }
   },
   "outputs": [],
   "source": [
    "px.pie(names=ev_data.Make.value_counts().index, values=ev_data.Make.value_counts().values,\n",
    "       width=1000,height=700, title=\"Distribution of make(manufacturer of the vehicle)\")"
   ]
  },
  {
   "cell_type": "markdown",
   "id": "ac46dbec",
   "metadata": {},
   "source": [
    "### 🌟`Important Observations` :\n",
    "- Most of the Electric vehicles was manufactured by Tesla with 46.2%(52,078 Vechiles) and followed by the Nissan Company has produced 11.4%(12,880 Vechiles).\n",
    "- Azure Dynamics has manufactured lowest no of Electric Vechiles that are only 7 Vechiles."
   ]
  },
  {
   "cell_type": "markdown",
   "id": "1d8ad957",
   "metadata": {},
   "source": [
    "### Does an EV have a battery? \n",
    "- Yes Electric Vehicles has the battery in it and operates only on electricity. those are battery-powered electric vehicle (BEV).\n",
    "- EV industry is Evolving around the Battery Vehicles to achieve Zero or No emissions.\n",
    "\n",
    "### Is hybrid a type of EV?\n",
    "- Yes by seeeing the data we can say that they are hybrid electric Vehicles they are plug- in Hybrid electric vehicle."
   ]
  },
  {
   "cell_type": "code",
   "execution_count": null,
   "id": "dc3f16ea",
   "metadata": {
    "ExecuteTime": {
     "end_time": "2023-07-23T05:37:42.904179Z",
     "start_time": "2023-07-23T05:37:42.850181Z"
    },
    "scrolled": false
   },
   "outputs": [],
   "source": [
    "px.pie(names=ev_data['Electric Vehicle Type'].value_counts().index, \n",
    "       values=ev_data['Electric Vehicle Type'].value_counts().values, title=\"Distribution of Electric Vehicle Type\")"
   ]
  },
  {
   "cell_type": "markdown",
   "id": "8951ed12",
   "metadata": {},
   "source": [
    "### 🌟`Important Observations` :\n",
    "- Most of the Electric vehicles are Battery Eletric Vehicle(BEV) exactly 76.4%(86,044) and ew can say that the EV industry is completely moving to the battery side."
   ]
  },
  {
   "cell_type": "code",
   "execution_count": null,
   "id": "482732ff",
   "metadata": {
    "ExecuteTime": {
     "end_time": "2023-07-23T05:37:43.743860Z",
     "start_time": "2023-07-23T05:37:43.682862Z"
    }
   },
   "outputs": [],
   "source": [
    "px.pie(names=ev_data['Clean Alternative Fuel Vehicle (CAFV) Eligibility'].value_counts().index,\n",
    "       values=ev_data['Clean Alternative Fuel Vehicle (CAFV) Eligibility'].value_counts().values,\n",
    "      title=\"Distribution of Clean Alternative Fuel Vehicle (CAFV) Eligibility\")"
   ]
  },
  {
   "cell_type": "markdown",
   "id": "dd93de07",
   "metadata": {},
   "source": [
    "### 🌟`Important Observations` :\n",
    "- Count of CAFV eligibility(Clean Alternative Fuel Vehicle Eligible) and Most of the Electric Vehicles are Eligible with the 52.1%.\n",
    "- Majority Eligibility Category is **`CAFV(Clean Alternative Fuel Vehicle)`** and Minority Eligibility Categories **`Not eligible due to low battery range`**.\n",
    "- There is one more category not eligible because of the battery they are **`Eligibility unknown as battery range has not been researched`** with 34.8%."
   ]
  },
  {
   "cell_type": "code",
   "execution_count": 31,
   "id": "d03127ec",
   "metadata": {
    "ExecuteTime": {
     "end_time": "2023-07-23T05:37:44.152388Z",
     "start_time": "2023-07-23T05:37:44.130389Z"
    }
   },
   "outputs": [
    {
     "data": {
      "text/plain": [
       "Clean Alternative Fuel Vehicle Eligible                         58639\n",
       "Eligibility unknown as battery range has not been researched    39236\n",
       "Not eligible due to low battery range                           14759\n",
       "Name: Clean Alternative Fuel Vehicle (CAFV) Eligibility, dtype: int64"
      ]
     },
     "execution_count": 31,
     "metadata": {},
     "output_type": "execute_result"
    }
   ],
   "source": [
    "ev_data['Clean Alternative Fuel Vehicle (CAFV) Eligibility'].value_counts()"
   ]
  },
  {
   "cell_type": "code",
   "execution_count": null,
   "id": "36d3b1d5",
   "metadata": {
    "ExecuteTime": {
     "end_time": "2023-07-23T05:37:45.218108Z",
     "start_time": "2023-07-23T05:37:44.945478Z"
    }
   },
   "outputs": [],
   "source": [
    "px.scatter(ev_data, x='Make', y='Model Year', title=' Year wise manufacturing of Electric Vehicles by the companies')"
   ]
  },
  {
   "cell_type": "markdown",
   "id": "aa880777",
   "metadata": {},
   "source": [
    "### 🌟`Important Observations` :\n",
    "- By observing the data we can say that **`Chevrolet`** is the first manufacturing company started the jounrey of electric vehicle in 1997.\n",
    "- after that Toyota, ford and Tesla etc.,. are started there jounrey in the EV Industry.\n",
    "- In 2023 most of the manufacture company's are buliding the electric vechile and producing the more electric vechile for the country."
   ]
  },
  {
   "cell_type": "code",
   "execution_count": null,
   "id": "ad39a5db",
   "metadata": {
    "ExecuteTime": {
     "end_time": "2023-07-23T05:37:46.061303Z",
     "start_time": "2023-07-23T05:37:45.772396Z"
    }
   },
   "outputs": [],
   "source": [
    "px.scatter(ev_data, x='Make', y='Electric Range', title=\"Electric Vehicle Range by Make\")"
   ]
  },
  {
   "cell_type": "markdown",
   "id": "a4b208b8",
   "metadata": {},
   "source": [
    "### 🌟`Important Observations` :\n",
    "- These shows the distribution of electric ranges for different vehicle makes(manufatures) and also Variability of Electric Range of Across Makes.\n",
    "- **`Tesla`** Manufacture with Highest Electric Range compared other makes or manufactures with the electric range of 337.\n",
    "- There are many manufactures(Make) with lowest Electric Range with 0."
   ]
  },
  {
   "cell_type": "code",
   "execution_count": null,
   "id": "ae4f8a60",
   "metadata": {
    "ExecuteTime": {
     "end_time": "2023-07-23T05:37:47.439689Z",
     "start_time": "2023-07-23T05:37:46.606896Z"
    }
   },
   "outputs": [],
   "source": [
    "px.scatter(ev_data, x='Make', y='Electric Range', hover_data='Model')"
   ]
  },
  {
   "cell_type": "markdown",
   "id": "71a8d5ab",
   "metadata": {},
   "source": [
    "### 🌟`Important Observations` :\n",
    "- In **`Tesla`** Manufacture Model S is with Highest Electric Range compared other makes or manufactures with the electric range of 337."
   ]
  },
  {
   "cell_type": "markdown",
   "id": "97befa94",
   "metadata": {},
   "source": [
    "### Task2 - Create a Choropleth to display the number of EV vehicles based on location."
   ]
  },
  {
   "cell_type": "code",
   "execution_count": 35,
   "id": "537c71a0",
   "metadata": {
    "ExecuteTime": {
     "end_time": "2023-07-23T05:37:47.455691Z",
     "start_time": "2023-07-23T05:37:47.441688Z"
    }
   },
   "outputs": [],
   "source": [
    "ev_count_df = ev_data.groupby('State').size().reset_index(name='EV Count')"
   ]
  },
  {
   "cell_type": "code",
   "execution_count": 36,
   "id": "477b0bb3",
   "metadata": {
    "ExecuteTime": {
     "end_time": "2023-07-23T05:37:47.471726Z",
     "start_time": "2023-07-23T05:37:47.457690Z"
    }
   },
   "outputs": [
    {
     "data": {
      "text/html": [
       "<div>\n",
       "<style scoped>\n",
       "    .dataframe tbody tr th:only-of-type {\n",
       "        vertical-align: middle;\n",
       "    }\n",
       "\n",
       "    .dataframe tbody tr th {\n",
       "        vertical-align: top;\n",
       "    }\n",
       "\n",
       "    .dataframe thead th {\n",
       "        text-align: right;\n",
       "    }\n",
       "</style>\n",
       "<table border=\"1\" class=\"dataframe\">\n",
       "  <thead>\n",
       "    <tr style=\"text-align: right;\">\n",
       "      <th></th>\n",
       "      <th>State</th>\n",
       "      <th>EV Count</th>\n",
       "    </tr>\n",
       "  </thead>\n",
       "  <tbody>\n",
       "    <tr>\n",
       "      <th>0</th>\n",
       "      <td>AK</td>\n",
       "      <td>1</td>\n",
       "    </tr>\n",
       "    <tr>\n",
       "      <th>1</th>\n",
       "      <td>AL</td>\n",
       "      <td>1</td>\n",
       "    </tr>\n",
       "    <tr>\n",
       "      <th>2</th>\n",
       "      <td>AR</td>\n",
       "      <td>4</td>\n",
       "    </tr>\n",
       "    <tr>\n",
       "      <th>3</th>\n",
       "      <td>AZ</td>\n",
       "      <td>6</td>\n",
       "    </tr>\n",
       "    <tr>\n",
       "      <th>4</th>\n",
       "      <td>CA</td>\n",
       "      <td>76</td>\n",
       "    </tr>\n",
       "  </tbody>\n",
       "</table>\n",
       "</div>"
      ],
      "text/plain": [
       "  State  EV Count\n",
       "0    AK         1\n",
       "1    AL         1\n",
       "2    AR         4\n",
       "3    AZ         6\n",
       "4    CA        76"
      ]
     },
     "execution_count": 36,
     "metadata": {},
     "output_type": "execute_result"
    }
   ],
   "source": [
    "ev_count_df.head()"
   ]
  },
  {
   "cell_type": "code",
   "execution_count": null,
   "id": "22719bd5",
   "metadata": {
    "ExecuteTime": {
     "end_time": "2023-07-23T05:37:47.979691Z",
     "start_time": "2023-07-23T05:37:47.851693Z"
    }
   },
   "outputs": [],
   "source": [
    "fig = px.choropleth(\n",
    "    ev_count_df,\n",
    "    locations='State',  # Column in the DataFrame containing the location names\n",
    "    locationmode='USA-states',  # Use 'country names' if using country-level data\n",
    "    color='EV Count',  # Column in the DataFrame containing the EV vehicle count\n",
    "    hover_name='State',  # Hover text that appears when hovering over a location\n",
    "    title='Number of EV Vehicles by Location'\n",
    ")\n",
    "\n",
    "fig.show()"
   ]
  },
  {
   "cell_type": "markdown",
   "id": "9c8aeca8",
   "metadata": {
    "ExecuteTime": {
     "end_time": "2023-07-23T02:42:45.761551Z",
     "start_time": "2023-07-23T02:42:45.748976Z"
    }
   },
   "source": [
    "### Task3 - Create a Racing Bar Plot to display the animation of EV Make and its count each year."
   ]
  },
  {
   "cell_type": "code",
   "execution_count": 39,
   "id": "8a1570aa",
   "metadata": {
    "ExecuteTime": {
     "end_time": "2023-07-23T05:38:10.092697Z",
     "start_time": "2023-07-23T05:38:10.070697Z"
    }
   },
   "outputs": [],
   "source": [
    "# Group by model year and make, and calculate the count for each group.\n",
    "df_grouped = ev_data.groupby(['Model Year', 'Make']).size().reset_index(name='Count')"
   ]
  },
  {
   "cell_type": "code",
   "execution_count": 40,
   "id": "e5c07240",
   "metadata": {
    "ExecuteTime": {
     "end_time": "2023-07-23T05:38:10.108701Z",
     "start_time": "2023-07-23T05:38:10.095697Z"
    }
   },
   "outputs": [
    {
     "data": {
      "text/html": [
       "<div>\n",
       "<style scoped>\n",
       "    .dataframe tbody tr th:only-of-type {\n",
       "        vertical-align: middle;\n",
       "    }\n",
       "\n",
       "    .dataframe tbody tr th {\n",
       "        vertical-align: top;\n",
       "    }\n",
       "\n",
       "    .dataframe thead th {\n",
       "        text-align: right;\n",
       "    }\n",
       "</style>\n",
       "<table border=\"1\" class=\"dataframe\">\n",
       "  <thead>\n",
       "    <tr style=\"text-align: right;\">\n",
       "      <th></th>\n",
       "      <th>Model Year</th>\n",
       "      <th>Make</th>\n",
       "      <th>Count</th>\n",
       "    </tr>\n",
       "  </thead>\n",
       "  <tbody>\n",
       "    <tr>\n",
       "      <th>0</th>\n",
       "      <td>1997</td>\n",
       "      <td>CHEVROLET</td>\n",
       "      <td>1</td>\n",
       "    </tr>\n",
       "    <tr>\n",
       "      <th>1</th>\n",
       "      <td>1998</td>\n",
       "      <td>FORD</td>\n",
       "      <td>1</td>\n",
       "    </tr>\n",
       "    <tr>\n",
       "      <th>2</th>\n",
       "      <td>1999</td>\n",
       "      <td>FORD</td>\n",
       "      <td>3</td>\n",
       "    </tr>\n",
       "    <tr>\n",
       "      <th>3</th>\n",
       "      <td>2000</td>\n",
       "      <td>FORD</td>\n",
       "      <td>10</td>\n",
       "    </tr>\n",
       "    <tr>\n",
       "      <th>4</th>\n",
       "      <td>2002</td>\n",
       "      <td>TOYOTA</td>\n",
       "      <td>2</td>\n",
       "    </tr>\n",
       "    <tr>\n",
       "      <th>...</th>\n",
       "      <td>...</td>\n",
       "      <td>...</td>\n",
       "      <td>...</td>\n",
       "    </tr>\n",
       "    <tr>\n",
       "      <th>204</th>\n",
       "      <td>2023</td>\n",
       "      <td>POLESTAR</td>\n",
       "      <td>88</td>\n",
       "    </tr>\n",
       "    <tr>\n",
       "      <th>205</th>\n",
       "      <td>2023</td>\n",
       "      <td>SUBARU</td>\n",
       "      <td>1</td>\n",
       "    </tr>\n",
       "    <tr>\n",
       "      <th>206</th>\n",
       "      <td>2023</td>\n",
       "      <td>TESLA</td>\n",
       "      <td>890</td>\n",
       "    </tr>\n",
       "    <tr>\n",
       "      <th>207</th>\n",
       "      <td>2023</td>\n",
       "      <td>VOLKSWAGEN</td>\n",
       "      <td>69</td>\n",
       "    </tr>\n",
       "    <tr>\n",
       "      <th>208</th>\n",
       "      <td>2023</td>\n",
       "      <td>VOLVO</td>\n",
       "      <td>21</td>\n",
       "    </tr>\n",
       "  </tbody>\n",
       "</table>\n",
       "<p>209 rows × 3 columns</p>\n",
       "</div>"
      ],
      "text/plain": [
       "     Model Year        Make  Count\n",
       "0          1997   CHEVROLET      1\n",
       "1          1998        FORD      1\n",
       "2          1999        FORD      3\n",
       "3          2000        FORD     10\n",
       "4          2002      TOYOTA      2\n",
       "..          ...         ...    ...\n",
       "204        2023    POLESTAR     88\n",
       "205        2023      SUBARU      1\n",
       "206        2023       TESLA    890\n",
       "207        2023  VOLKSWAGEN     69\n",
       "208        2023       VOLVO     21\n",
       "\n",
       "[209 rows x 3 columns]"
      ]
     },
     "execution_count": 40,
     "metadata": {},
     "output_type": "execute_result"
    }
   ],
   "source": [
    "df_grouped"
   ]
  },
  {
   "cell_type": "code",
   "execution_count": 41,
   "id": "d3b66af4",
   "metadata": {
    "ExecuteTime": {
     "end_time": "2023-07-23T05:38:10.639672Z",
     "start_time": "2023-07-23T05:38:10.606496Z"
    }
   },
   "outputs": [],
   "source": [
    "import bar_chart_race as bcr"
   ]
  },
  {
   "cell_type": "code",
   "execution_count": null,
   "id": "f99be642",
   "metadata": {
    "ExecuteTime": {
     "end_time": "2023-07-23T05:25:44.123409Z",
     "start_time": "2023-07-23T05:25:42.690630Z"
    }
   },
   "outputs": [],
   "source": [
    "bcr.bar_chart_race(df=df_grouped,\n",
    "                   orientation='h',\n",
    "                   sort='desc',  # sort the bar for each period\n",
    "                   n_bars=10, # number of bars to display in each frame\n",
    "                   steps_per_period=45, # smoothness of the animation\n",
    "                   period_length=3000, # time period in ms for each row\n",
    "                   title={'label': 'Year wise sales of each Makers from last decade','size': 52, \n",
    "                          'weight': 'bold', 'pad': 40 })"
   ]
  },
  {
   "cell_type": "code",
   "execution_count": null,
   "id": "0893b2a6",
   "metadata": {
    "ExecuteTime": {
     "end_time": "2023-07-23T05:25:49.639715Z",
     "start_time": "2023-07-23T05:25:49.419539Z"
    }
   },
   "outputs": [],
   "source": [
    "fig = px.bar(df_grouped,\n",
    "             x=\"Make\",\n",
    "             y=\"Count\",\n",
    "             animation_frame=\"Model Year\",\n",
    "             range_y=[0, df_grouped['Count'].max() + 50],\n",
    "             title=\"EV Make Count Each Year\",\n",
    "             labels={'Make': 'EV Make', 'Count': 'Number of EVs'},\n",
    "             template=\"plotly_dark\"\n",
    "            )\n",
    "\n",
    "# Show the figure\n",
    "fig.show()"
   ]
  },
  {
   "cell_type": "code",
   "execution_count": null,
   "id": "e9178365",
   "metadata": {},
   "outputs": [],
   "source": []
  },
  {
   "cell_type": "code",
   "execution_count": null,
   "id": "8756307c",
   "metadata": {},
   "outputs": [],
   "source": []
  }
 ],
 "metadata": {
  "kernelspec": {
   "display_name": "Python 3 (ipykernel)",
   "language": "python",
   "name": "python3"
  },
  "language_info": {
   "codemirror_mode": {
    "name": "ipython",
    "version": 3
   },
   "file_extension": ".py",
   "mimetype": "text/x-python",
   "name": "python",
   "nbconvert_exporter": "python",
   "pygments_lexer": "ipython3",
   "version": "3.9.16"
  }
 },
 "nbformat": 4,
 "nbformat_minor": 5
}
